{
 "cells": [
  {
   "cell_type": "markdown",
   "metadata": {
    "id": "EiwKBHF_PIMc"
   },
   "source": [
    "# Notebook Instructions\n",
    "\n",
    "1. If you are new to Jupyter notebooks, please go through this introductory manual <a href='https://quantra.quantinsti.com/quantra-notebook' target=\"_blank\">here</a>.\n",
    "1. Any changes made in this notebook would be lost after you close the browser window. **You can download the notebook to save your work on your PC.**\n",
    "1. Before running this notebook on your local PC:<br>\n",
    "i.  You need to set up a Python environment and the relevant packages on your local PC. To do so, go through the section on \"**Run Codes Locally on Your Machine**\" in the course.<br>\n",
    "ii. You need to **download the zip file available in the last unit** of this course. The zip file contains the data files and/or python modules that might be required to run this notebook."
   ]
  },
  {
   "cell_type": "markdown",
   "metadata": {
    "id": "4iGjGoUVPIMh"
   },
   "source": [
    "## Create Input and Output Parameters\n",
    "In the previous notebook, you learned how to read data from a CSV file and drop missing values.\n",
    "\n",
    "In this notebook, you will learn how to create custom input and output parameters that you will use in your regression model. The key steps are:\n",
    "\n",
    "1. [Import the Libraries](#import)\n",
    "2. [Read the GLD Data](#read)\n",
    "3. [Create Output Parameters](#Output)\n",
    "4. [Create Input Parameters](#input)\n",
    "\n",
    "\n",
    "<a id='import'></a>\n",
    "## Import the Libraries\n",
    "\n",
    "First, we will import `pandas` and `numpy` libraries for data manipulation and analysis. "
   ]
  },
  {
   "cell_type": "code",
   "execution_count": 1,
   "metadata": {
    "id": "ZooKULzpPIMj"
   },
   "outputs": [],
   "source": [
    "# Data manipulation\n",
    "import pandas as pd\n",
    "import numpy as np"
   ]
  },
  {
   "cell_type": "markdown",
   "metadata": {
    "id": "bHVWBjhEPIMl"
   },
   "source": [
    "<a id='read'></a>\n",
    "## Read the GLD Data\n",
    "\n",
    "We have saved the Gold ETF (GLD) data in OHLC format in a CSV file named `gold_prices.csv`. You can read the file using the `pandas.read_csv()` method. "
   ]
  },
  {
   "cell_type": "code",
   "execution_count": 2,
   "metadata": {
    "colab": {
     "base_uri": "https://localhost:8080/",
     "height": 235
    },
    "executionInfo": {
     "elapsed": 35,
     "status": "error",
     "timestamp": 1644753819636,
     "user": {
      "displayName": "Vinay Singh",
      "photoUrl": "https://lh3.googleusercontent.com/a/default-user=s64",
      "userId": "01105220728513689253"
     },
     "user_tz": -330
    },
    "id": "A9tnISscPIMm",
    "outputId": "ca628e89-5825-4116-f383-7bf69aa41575"
   },
   "outputs": [],
   "source": [
    "# Read the data\n",
    "gold_prices = pd.read_csv('../data_modules/gold_prices.csv',\n",
    "                          parse_dates=['Date'], index_col='Date')"
   ]
  },
  {
   "cell_type": "markdown",
   "metadata": {
    "id": "5zWc3z75PIMn"
   },
   "source": [
    "<a id='output'></a>\n",
    "## Create Output Parameters\n",
    "\n",
    "First, we will create `Std_U` and `Std_D` which are the upward and downward deviations from the `Open` price, respectively. These parameters will be our output parameters. This means that our machine learning model will predict the upward and downward deviations with the help of the Open price and other custom input parameters. \n",
    "\n",
    "The formulas for them are as follows: \n",
    "\n",
    "Upward deviation  = High - Open\n",
    "\n",
    "Downward deviation = Open - Low"
   ]
  },
  {
   "cell_type": "code",
   "execution_count": 3,
   "metadata": {},
   "outputs": [],
   "source": [
    "# Calculate the upward and downward deviations from the Open\n",
    "gold_prices['Std_U'] = gold_prices['High']-gold_prices['Open']\n",
    "gold_prices['Std_D'] = gold_prices['Open']-gold_prices['Low']"
   ]
  },
  {
   "cell_type": "markdown",
   "metadata": {},
   "source": [
    "<a id='input'></a>\n",
    "## Create Input Parameters\n",
    "\n",
    "We will create custom input parameters by using the raw data from the CSV file. In the machine learning model, these indicators will be used as inputs for prediction.\n",
    "\n",
    "We will create `S_3`, `S_15` and `S_60` which are 3-day, 15-day and 60-day moving averages for GLD `Close` prices, respectively.\n",
    "\n",
    "To calculate these moving averages, we will make use of `shift()`, `rolling()` and `mean()` operators. \n",
    "\n",
    "The `shift()` operator shifts the index by the desired number of periods. We use  `shift(1)` so that we can exclude the current value from our moving average. The `rolling()` function allows us to consider a moving window for a fixed number of observations. We will change this number according to the moving average we want to find. Finally, the `mean()` will give us the average of the respective values. "
   ]
  },
  {
   "cell_type": "code",
   "execution_count": 4,
   "metadata": {
    "id": "P1uPxXxGPIMo",
    "outputId": "12b15b3b-3651-4a10-ed99-48ef0444d352"
   },
   "outputs": [],
   "source": [
    "# Calculate 3-day moving average of close prices\n",
    "gold_prices['S_3'] = gold_prices['Close'].shift(1).rolling(window=3).mean()\n",
    "\n",
    "# Calculate 15-day moving average of close prices\n",
    "gold_prices['S_15'] = gold_prices['Close'].shift(1).rolling(window=15).mean()\n",
    "\n",
    "# Calculate 60-day moving average of close prices\n",
    "gold_prices['S_60'] = gold_prices['Close'].shift(1).rolling(window=60).mean()"
   ]
  },
  {
   "cell_type": "markdown",
   "metadata": {},
   "source": [
    "We will calculate the correlation between the previous close values and corresponding 3-day moving average values. We will use a 10-day window so that we get the recent correlation which only considers the last 10 days.  "
   ]
  },
  {
   "cell_type": "code",
   "execution_count": 5,
   "metadata": {},
   "outputs": [],
   "source": [
    "# Calculate correlation between previous close and 3-day moving average for past 10 days\n",
    "gold_prices['Corr'] = gold_prices['Close'].shift(\n",
    "    1).rolling(window=10).corr(gold_prices['S_3'].shift(1))"
   ]
  },
  {
   "cell_type": "markdown",
   "metadata": {},
   "source": [
    "Next, we will add `OD` which will tell us how much the market has changed compared to the previous day's Open. The formula is as follows: \n",
    "\n",
    "OD = Today's open - Previous open\n",
    "\n",
    "We will also add an indicator that will show us the overnight changes in the stock. We can calculate this with the following formula: \n",
    "\n",
    "OL = Previous close - Today's open"
   ]
  },
  {
   "cell_type": "code",
   "execution_count": 6,
   "metadata": {},
   "outputs": [
    {
     "data": {
      "text/html": [
       "<div>\n",
       "<style scoped>\n",
       "    .dataframe tbody tr th:only-of-type {\n",
       "        vertical-align: middle;\n",
       "    }\n",
       "\n",
       "    .dataframe tbody tr th {\n",
       "        vertical-align: top;\n",
       "    }\n",
       "\n",
       "    .dataframe thead th {\n",
       "        text-align: right;\n",
       "    }\n",
       "</style>\n",
       "<table border=\"1\" class=\"dataframe\">\n",
       "  <thead>\n",
       "    <tr style=\"text-align: right;\">\n",
       "      <th></th>\n",
       "      <th>Open</th>\n",
       "      <th>High</th>\n",
       "      <th>Low</th>\n",
       "      <th>Close</th>\n",
       "      <th>Std_U</th>\n",
       "      <th>Std_D</th>\n",
       "      <th>S_3</th>\n",
       "      <th>S_15</th>\n",
       "      <th>S_60</th>\n",
       "      <th>Corr</th>\n",
       "      <th>OD</th>\n",
       "      <th>OL</th>\n",
       "    </tr>\n",
       "    <tr>\n",
       "      <th>Date</th>\n",
       "      <th></th>\n",
       "      <th></th>\n",
       "      <th></th>\n",
       "      <th></th>\n",
       "      <th></th>\n",
       "      <th></th>\n",
       "      <th></th>\n",
       "      <th></th>\n",
       "      <th></th>\n",
       "      <th></th>\n",
       "      <th></th>\n",
       "      <th></th>\n",
       "    </tr>\n",
       "  </thead>\n",
       "  <tbody>\n",
       "    <tr>\n",
       "      <th>2019-05-08</th>\n",
       "      <td>121.540001</td>\n",
       "      <td>121.540001</td>\n",
       "      <td>120.769997</td>\n",
       "      <td>120.910004</td>\n",
       "      <td>0.000000</td>\n",
       "      <td>0.770004</td>\n",
       "      <td>120.890000</td>\n",
       "      <td>120.606668</td>\n",
       "      <td>122.611834</td>\n",
       "      <td>-0.221595</td>\n",
       "      <td>0.520004</td>\n",
       "      <td>-0.330002</td>\n",
       "    </tr>\n",
       "    <tr>\n",
       "      <th>2019-05-09</th>\n",
       "      <td>120.959999</td>\n",
       "      <td>121.620003</td>\n",
       "      <td>120.860001</td>\n",
       "      <td>121.199997</td>\n",
       "      <td>0.660004</td>\n",
       "      <td>0.099998</td>\n",
       "      <td>120.976667</td>\n",
       "      <td>120.633335</td>\n",
       "      <td>122.567001</td>\n",
       "      <td>-0.290695</td>\n",
       "      <td>-0.580002</td>\n",
       "      <td>-0.049995</td>\n",
       "    </tr>\n",
       "    <tr>\n",
       "      <th>2019-05-10</th>\n",
       "      <td>121.410004</td>\n",
       "      <td>121.730003</td>\n",
       "      <td>121.300003</td>\n",
       "      <td>121.430000</td>\n",
       "      <td>0.319999</td>\n",
       "      <td>0.110001</td>\n",
       "      <td>121.106667</td>\n",
       "      <td>120.694668</td>\n",
       "      <td>122.522667</td>\n",
       "      <td>-0.280418</td>\n",
       "      <td>0.450005</td>\n",
       "      <td>-0.210007</td>\n",
       "    </tr>\n",
       "    <tr>\n",
       "      <th>2019-05-13</th>\n",
       "      <td>122.629997</td>\n",
       "      <td>122.849998</td>\n",
       "      <td>122.330002</td>\n",
       "      <td>122.669998</td>\n",
       "      <td>0.220001</td>\n",
       "      <td>0.299995</td>\n",
       "      <td>121.180000</td>\n",
       "      <td>120.765334</td>\n",
       "      <td>122.490334</td>\n",
       "      <td>0.078028</td>\n",
       "      <td>1.219993</td>\n",
       "      <td>-1.199997</td>\n",
       "    </tr>\n",
       "    <tr>\n",
       "      <th>2019-05-14</th>\n",
       "      <td>122.599998</td>\n",
       "      <td>122.660004</td>\n",
       "      <td>122.120003</td>\n",
       "      <td>122.459999</td>\n",
       "      <td>0.060006</td>\n",
       "      <td>0.479995</td>\n",
       "      <td>121.766665</td>\n",
       "      <td>120.918667</td>\n",
       "      <td>122.467167</td>\n",
       "      <td>0.365089</td>\n",
       "      <td>-0.029999</td>\n",
       "      <td>0.070000</td>\n",
       "    </tr>\n",
       "  </tbody>\n",
       "</table>\n",
       "</div>"
      ],
      "text/plain": [
       "                  Open        High         Low       Close     Std_U  \\\n",
       "Date                                                                   \n",
       "2019-05-08  121.540001  121.540001  120.769997  120.910004  0.000000   \n",
       "2019-05-09  120.959999  121.620003  120.860001  121.199997  0.660004   \n",
       "2019-05-10  121.410004  121.730003  121.300003  121.430000  0.319999   \n",
       "2019-05-13  122.629997  122.849998  122.330002  122.669998  0.220001   \n",
       "2019-05-14  122.599998  122.660004  122.120003  122.459999  0.060006   \n",
       "\n",
       "               Std_D         S_3        S_15        S_60      Corr        OD  \\\n",
       "Date                                                                           \n",
       "2019-05-08  0.770004  120.890000  120.606668  122.611834 -0.221595  0.520004   \n",
       "2019-05-09  0.099998  120.976667  120.633335  122.567001 -0.290695 -0.580002   \n",
       "2019-05-10  0.110001  121.106667  120.694668  122.522667 -0.280418  0.450005   \n",
       "2019-05-13  0.299995  121.180000  120.765334  122.490334  0.078028  1.219993   \n",
       "2019-05-14  0.479995  121.766665  120.918667  122.467167  0.365089 -0.029999   \n",
       "\n",
       "                  OL  \n",
       "Date                  \n",
       "2019-05-08 -0.330002  \n",
       "2019-05-09 -0.049995  \n",
       "2019-05-10 -0.210007  \n",
       "2019-05-13 -1.199997  \n",
       "2019-05-14  0.070000  "
      ]
     },
     "execution_count": 6,
     "metadata": {},
     "output_type": "execute_result"
    }
   ],
   "source": [
    "# Calculate OD, which shows changes since previous open\n",
    "gold_prices['OD'] = gold_prices['Open']-gold_prices['Open'].shift(1)\n",
    "\n",
    "# Calculate OL, which shows overnight changes\n",
    "gold_prices['OL'] = gold_prices['Close'].shift(1)-gold_prices['Open']\n",
    "\n",
    "gold_prices.tail()"
   ]
  },
  {
   "cell_type": "markdown",
   "metadata": {
    "id": "yhXqyb9gPIMs"
   },
   "source": [
    "## Conclusion\n",
    "In this notebook, we have learned how to create input and output parameters from a raw dataset. We will use these parameters later in our regression model.\n",
    "<br><br>"
   ]
  }
 ],
 "metadata": {
  "colab": {
   "collapsed_sections": [],
   "name": "Data Preparation.ipynb",
   "provenance": [
    {
     "file_id": "1fQjdWSFxuOa4Ywb42tRGB9SzfDQZ0DH-",
     "timestamp": 1644837608904
    }
   ]
  },
  "kernelspec": {
   "display_name": "Python 3 (ipykernel)",
   "language": "python",
   "name": "python3"
  },
  "language_info": {
   "codemirror_mode": {
    "name": "ipython",
    "version": 3
   },
   "file_extension": ".py",
   "mimetype": "text/x-python",
   "name": "python",
   "nbconvert_exporter": "python",
   "pygments_lexer": "ipython3",
   "version": "3.9.5"
  }
 },
 "nbformat": 4,
 "nbformat_minor": 4
}
