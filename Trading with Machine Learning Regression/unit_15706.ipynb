{
 "cells": [
  {
   "cell_type": "markdown",
   "metadata": {
    "id": "EiwKBHF_PIMc"
   },
   "source": [
    "# Notebook Instructions\n",
    "\n",
    "1. All the <u>code and data files</u> used in this course are available in the downloadable unit of the <u>last section of this course</u>.\n",
    "2. You can run the notebook document sequentially (one cell at a time) by pressing **Shift + Enter**. \n",
    "3. While a cell is running, a [*] is shown on the left. After the cell is run, the output will appear on the next line.\n",
    "\n",
    "This course is based on specific versions of Python packages. You can find the details of the packages in <a href='https://quantra.quantinsti.com/quantra-notebook' target=\"_blank\" >this manual</a>."
   ]
  },
  {
   "cell_type": "markdown",
   "metadata": {
    "id": "4iGjGoUVPIMh"
   },
   "source": [
    "## Implementing Trading with Machine Learning Regression -Part-1\n",
    " In the previous units, we have covered how to create a trading strategy with regression. The below flowchart represents the steps involved in implementing the trading strategy.\n",
    "![flowchart](https://d2a032ejo53cab.cloudfront.net/Glossary/h1wfK3Mh/p-1.drawio.png)\n",
    "\n",
    "In this notebook, we will learn to import the data, create indicators and define dependent and independent variables. The key steps are:\n",
    "1. [Read GLD data](#read)\n",
    "2. [Create Input Parameters](#input)\n",
    "3. [Create X and y Datasets](#xy)\n",
    "\n",
    "## Import the Libraries"
   ]
  },
  {
   "cell_type": "code",
   "execution_count": 1,
   "metadata": {
    "id": "ZooKULzpPIMj"
   },
   "outputs": [],
   "source": [
    "# Data manipulation\n",
    "import pandas as pd\n",
    "import numpy as np\n",
    "\n",
    "# Plotting\n",
    "import matplotlib.pyplot as plt\n",
    "%matplotlib inline\n",
    "plt.style.use('seaborn-darkgrid')"
   ]
  },
  {
   "cell_type": "markdown",
   "metadata": {
    "id": "bHVWBjhEPIMl"
   },
   "source": [
    "<a id='read'></a>\n",
    "## Read GLD data\n",
    "\n",
    "We have saved the Gold (GLD) ETF data of OHLC format in a CSV file `gold_prices.csv`.  You can read the file using the pandas `read_csv` method. \n",
    "\n",
    "This data is available in the last unit of this course, **Python Codes and Data**. You can also download the data from Yahoo! Finance."
   ]
  },
  {
   "cell_type": "code",
   "execution_count": 2,
   "metadata": {
    "colab": {
     "base_uri": "https://localhost:8080/",
     "height": 235
    },
    "executionInfo": {
     "elapsed": 35,
     "status": "error",
     "timestamp": 1644753819636,
     "user": {
      "displayName": "Vinay Singh",
      "photoUrl": "https://lh3.googleusercontent.com/a/default-user=s64",
      "userId": "01105220728513689253"
     },
     "user_tz": -330
    },
    "id": "A9tnISscPIMm",
    "outputId": "ca628e89-5825-4116-f383-7bf69aa41575"
   },
   "outputs": [
    {
     "data": {
      "text/html": [
       "<div>\n",
       "<style scoped>\n",
       "    .dataframe tbody tr th:only-of-type {\n",
       "        vertical-align: middle;\n",
       "    }\n",
       "\n",
       "    .dataframe tbody tr th {\n",
       "        vertical-align: top;\n",
       "    }\n",
       "\n",
       "    .dataframe thead th {\n",
       "        text-align: right;\n",
       "    }\n",
       "</style>\n",
       "<table border=\"1\" class=\"dataframe\">\n",
       "  <thead>\n",
       "    <tr style=\"text-align: right;\">\n",
       "      <th></th>\n",
       "      <th>Open</th>\n",
       "      <th>High</th>\n",
       "      <th>Low</th>\n",
       "      <th>Close</th>\n",
       "    </tr>\n",
       "    <tr>\n",
       "      <th>Date</th>\n",
       "      <th></th>\n",
       "      <th></th>\n",
       "      <th></th>\n",
       "      <th></th>\n",
       "    </tr>\n",
       "  </thead>\n",
       "  <tbody>\n",
       "    <tr>\n",
       "      <th>2013-04-15</th>\n",
       "      <td>136.000000</td>\n",
       "      <td>136.750000</td>\n",
       "      <td>130.509995</td>\n",
       "      <td>131.309998</td>\n",
       "    </tr>\n",
       "    <tr>\n",
       "      <th>2013-04-16</th>\n",
       "      <td>134.899994</td>\n",
       "      <td>135.110001</td>\n",
       "      <td>131.759995</td>\n",
       "      <td>132.800003</td>\n",
       "    </tr>\n",
       "    <tr>\n",
       "      <th>2013-04-17</th>\n",
       "      <td>133.809998</td>\n",
       "      <td>134.949997</td>\n",
       "      <td>132.320007</td>\n",
       "      <td>132.869995</td>\n",
       "    </tr>\n",
       "    <tr>\n",
       "      <th>2013-04-18</th>\n",
       "      <td>134.119995</td>\n",
       "      <td>135.309998</td>\n",
       "      <td>133.619995</td>\n",
       "      <td>134.300003</td>\n",
       "    </tr>\n",
       "    <tr>\n",
       "      <th>2013-04-19</th>\n",
       "      <td>136.000000</td>\n",
       "      <td>136.020004</td>\n",
       "      <td>134.600006</td>\n",
       "      <td>135.470001</td>\n",
       "    </tr>\n",
       "  </tbody>\n",
       "</table>\n",
       "</div>"
      ],
      "text/plain": [
       "                  Open        High         Low       Close\n",
       "Date                                                      \n",
       "2013-04-15  136.000000  136.750000  130.509995  131.309998\n",
       "2013-04-16  134.899994  135.110001  131.759995  132.800003\n",
       "2013-04-17  133.809998  134.949997  132.320007  132.869995\n",
       "2013-04-18  134.119995  135.309998  133.619995  134.300003\n",
       "2013-04-19  136.000000  136.020004  134.600006  135.470001"
      ]
     },
     "execution_count": 2,
     "metadata": {},
     "output_type": "execute_result"
    }
   ],
   "source": [
    "# Read the data\n",
    "gold_prices = pd.read_csv('../data_modules/gold_prices.csv',\n",
    "                          parse_dates=['Date'], index_col='Date')\n",
    "# Print dataframe\n",
    "gold_prices.head()"
   ]
  },
  {
   "cell_type": "markdown",
   "metadata": {
    "id": "v3sSyvsz_9bO"
   },
   "source": [
    "Now we will check for the outliers by plotting `Close` column of `gold_prices`. One can use any column of choice but we are using `Close` for the reference."
   ]
  },
  {
   "cell_type": "code",
   "execution_count": 3,
   "metadata": {
    "id": "FlsyUzYF_918",
    "outputId": "3fa029ae-f9a3-42c1-88b4-2dc7d1a5c83b"
   },
   "outputs": [
    {
     "data": {
      "image/png": "[encoded data removed]",
      "text/plain": [
       "<Figure size 720x504 with 1 Axes>"
      ]
     },
     "metadata": {},
     "output_type": "display_data"
    }
   ],
   "source": [
    "# Plot the closing price of GLD\n",
    "gold_prices['Close'].plot(figsize=(10, 7))\n",
    "plt.xlabel(\"Date\", fontsize=12)\n",
    "plt.ylabel(\"Close Price\", fontsize=12)\n",
    "plt.title('GLD Daily Close Price', fontsize=14)\n",
    "plt.show()"
   ]
  },
  {
   "cell_type": "markdown",
   "metadata": {
    "id": "IrIHRbXJBCj2"
   },
   "source": [
    "From the above plot we don't see any outliers. We will check for `NaN` values."
   ]
  },
  {
   "cell_type": "code",
   "execution_count": 4,
   "metadata": {
    "id": "nJ9XUV_7PIMn",
    "outputId": "c456c5ef-6c22-45bc-c43a-92d7bb2d2098"
   },
   "outputs": [
    {
     "data": {
      "text/plain": [
       "Open     0\n",
       "High     0\n",
       "Low      0\n",
       "Close    0\n",
       "dtype: int64"
      ]
     },
     "execution_count": 4,
     "metadata": {},
     "output_type": "execute_result"
    }
   ],
   "source": [
    "# Here we check for NaN values\n",
    "gold_prices.isna().sum()"
   ]
  },
  {
   "cell_type": "markdown",
   "metadata": {
    "id": "5zWc3z75PIMn"
   },
   "source": [
    "Here we can clearly see our data has zero NaN values.\n",
    "<a id='input'></a>\n",
    "## Create Input Parameters\n",
    "\n",
    "We will create custom indicators, which will help in making the prediction more accurate. \n",
    "\n",
    "1. `S_3`,`S_15`,`S_60`: 3-days, 15-days and 60-days moving average for GLD `Close` prices, respectively.\n",
    "2. `Corr`: Compute the correlation between the `Close` price and `S_3`.\n",
    "3. `Std_U`,`Std_D`: Difference between `High` & `Open`, `Open & Low` respectively.\n",
    "4. `OD`, `OL`: Difference between `Open` & previous day's `Open`, and `Open` & previous day's `Close` respectively.\n",
    "\n"
   ]
  },
  {
   "cell_type": "code",
   "execution_count": 5,
   "metadata": {
    "id": "P1uPxXxGPIMo",
    "outputId": "12b15b3b-3651-4a10-ed99-48ef0444d352"
   },
   "outputs": [
    {
     "data": {
      "text/html": [
       "<div>\n",
       "<style scoped>\n",
       "    .dataframe tbody tr th:only-of-type {\n",
       "        vertical-align: middle;\n",
       "    }\n",
       "\n",
       "    .dataframe tbody tr th {\n",
       "        vertical-align: top;\n",
       "    }\n",
       "\n",
       "    .dataframe thead th {\n",
       "        text-align: right;\n",
       "    }\n",
       "</style>\n",
       "<table border=\"1\" class=\"dataframe\">\n",
       "  <thead>\n",
       "    <tr style=\"text-align: right;\">\n",
       "      <th></th>\n",
       "      <th>Open</th>\n",
       "      <th>High</th>\n",
       "      <th>Low</th>\n",
       "      <th>Close</th>\n",
       "      <th>S_3</th>\n",
       "      <th>S_15</th>\n",
       "      <th>S_60</th>\n",
       "      <th>Corr</th>\n",
       "      <th>Std_U</th>\n",
       "      <th>Std_D</th>\n",
       "      <th>OD</th>\n",
       "      <th>OL</th>\n",
       "    </tr>\n",
       "    <tr>\n",
       "      <th>Date</th>\n",
       "      <th></th>\n",
       "      <th></th>\n",
       "      <th></th>\n",
       "      <th></th>\n",
       "      <th></th>\n",
       "      <th></th>\n",
       "      <th></th>\n",
       "      <th></th>\n",
       "      <th></th>\n",
       "      <th></th>\n",
       "      <th></th>\n",
       "      <th></th>\n",
       "    </tr>\n",
       "  </thead>\n",
       "  <tbody>\n",
       "    <tr>\n",
       "      <th>2019-05-08</th>\n",
       "      <td>121.540001</td>\n",
       "      <td>121.540001</td>\n",
       "      <td>120.769997</td>\n",
       "      <td>120.910004</td>\n",
       "      <td>120.890000</td>\n",
       "      <td>120.606668</td>\n",
       "      <td>122.611834</td>\n",
       "      <td>-0.221595</td>\n",
       "      <td>0.000000</td>\n",
       "      <td>0.770004</td>\n",
       "      <td>0.520004</td>\n",
       "      <td>0.330002</td>\n",
       "    </tr>\n",
       "    <tr>\n",
       "      <th>2019-05-09</th>\n",
       "      <td>120.959999</td>\n",
       "      <td>121.620003</td>\n",
       "      <td>120.860001</td>\n",
       "      <td>121.199997</td>\n",
       "      <td>120.976667</td>\n",
       "      <td>120.633335</td>\n",
       "      <td>122.567001</td>\n",
       "      <td>-0.290695</td>\n",
       "      <td>0.660004</td>\n",
       "      <td>0.099998</td>\n",
       "      <td>-0.580002</td>\n",
       "      <td>0.049995</td>\n",
       "    </tr>\n",
       "    <tr>\n",
       "      <th>2019-05-10</th>\n",
       "      <td>121.410004</td>\n",
       "      <td>121.730003</td>\n",
       "      <td>121.300003</td>\n",
       "      <td>121.430000</td>\n",
       "      <td>121.106667</td>\n",
       "      <td>120.694668</td>\n",
       "      <td>122.522667</td>\n",
       "      <td>-0.280418</td>\n",
       "      <td>0.319999</td>\n",
       "      <td>0.110001</td>\n",
       "      <td>0.450005</td>\n",
       "      <td>0.210007</td>\n",
       "    </tr>\n",
       "    <tr>\n",
       "      <th>2019-05-13</th>\n",
       "      <td>122.629997</td>\n",
       "      <td>122.849998</td>\n",
       "      <td>122.330002</td>\n",
       "      <td>122.669998</td>\n",
       "      <td>121.180000</td>\n",
       "      <td>120.765334</td>\n",
       "      <td>122.490334</td>\n",
       "      <td>0.078028</td>\n",
       "      <td>0.220001</td>\n",
       "      <td>0.299995</td>\n",
       "      <td>1.219993</td>\n",
       "      <td>1.199997</td>\n",
       "    </tr>\n",
       "    <tr>\n",
       "      <th>2019-05-14</th>\n",
       "      <td>122.599998</td>\n",
       "      <td>122.660004</td>\n",
       "      <td>122.120003</td>\n",
       "      <td>122.459999</td>\n",
       "      <td>121.766665</td>\n",
       "      <td>120.918667</td>\n",
       "      <td>122.467167</td>\n",
       "      <td>0.365089</td>\n",
       "      <td>0.060006</td>\n",
       "      <td>0.479995</td>\n",
       "      <td>-0.029999</td>\n",
       "      <td>-0.070000</td>\n",
       "    </tr>\n",
       "  </tbody>\n",
       "</table>\n",
       "</div>"
      ],
      "text/plain": [
       "                  Open        High         Low       Close         S_3  \\\n",
       "Date                                                                     \n",
       "2019-05-08  121.540001  121.540001  120.769997  120.910004  120.890000   \n",
       "2019-05-09  120.959999  121.620003  120.860001  121.199997  120.976667   \n",
       "2019-05-10  121.410004  121.730003  121.300003  121.430000  121.106667   \n",
       "2019-05-13  122.629997  122.849998  122.330002  122.669998  121.180000   \n",
       "2019-05-14  122.599998  122.660004  122.120003  122.459999  121.766665   \n",
       "\n",
       "                  S_15        S_60      Corr     Std_U     Std_D        OD  \\\n",
       "Date                                                                         \n",
       "2019-05-08  120.606668  122.611834 -0.221595  0.000000  0.770004  0.520004   \n",
       "2019-05-09  120.633335  122.567001 -0.290695  0.660004  0.099998 -0.580002   \n",
       "2019-05-10  120.694668  122.522667 -0.280418  0.319999  0.110001  0.450005   \n",
       "2019-05-13  120.765334  122.490334  0.078028  0.220001  0.299995  1.219993   \n",
       "2019-05-14  120.918667  122.467167  0.365089  0.060006  0.479995 -0.029999   \n",
       "\n",
       "                  OL  \n",
       "Date                  \n",
       "2019-05-08  0.330002  \n",
       "2019-05-09  0.049995  \n",
       "2019-05-10  0.210007  \n",
       "2019-05-13  1.199997  \n",
       "2019-05-14 -0.070000  "
      ]
     },
     "execution_count": 5,
     "metadata": {},
     "output_type": "execute_result"
    }
   ],
   "source": [
    "# Calculate 3-day moving average of close prices\n",
    "gold_prices['S_3'] = gold_prices['Close'].shift(1).rolling(window=3).mean()\n",
    "\n",
    "# Calculate 15-day moving average of close prices\n",
    "gold_prices['S_15'] = gold_prices['Close'].shift(1).rolling(window=15).mean()\n",
    "\n",
    "# Calculate 60-day moving average of close prices\n",
    "gold_prices['S_60'] = gold_prices['Close'].shift(1).rolling(window=60).mean()\n",
    "\n",
    "# Calculate the correlation between close price and 3 day moving average\n",
    "gold_prices['Corr'] = gold_prices['Close'].shift(\n",
    "    1).rolling(window=10).corr(gold_prices['S_3'].shift(1))\n",
    "\n",
    "# Calculate the difference between High & Open, Open & Low\n",
    "gold_prices['Std_U'] = gold_prices['High']-gold_prices['Open']\n",
    "gold_prices['Std_D'] = gold_prices['Open']-gold_prices['Low']\n",
    "\n",
    "# Calculate the difference between `Open` & previous day's `Open`, and `Open` & previous day's `Close`\n",
    "gold_prices['OD'] = gold_prices['Open']-gold_prices['Open'].shift(1)\n",
    "gold_prices['OL'] = gold_prices['Open']-gold_prices['Close'].shift(1)\n",
    "\n",
    "gold_prices.tail()"
   ]
  },
  {
   "cell_type": "markdown",
   "metadata": {
    "id": "uScLpzpgPIMp"
   },
   "source": [
    "<a id='xy'></a>\n",
    "## Create X and y Datasets\n",
    "\n",
    "A machine learning model's accuracy in making predictions depends on the kind of data provided to it.  \n",
    "We will create an input dataset X and output datasets yU and yD for feeding into the linear regression model we are looking to build.\n",
    "![image.png](https://d2a032ejo53cab.cloudfront.net/Glossary/HYKQtq2P/image.png)"
   ]
  },
  {
   "cell_type": "code",
   "execution_count": 6,
   "metadata": {
    "id": "eD2SQL2gPIMq",
    "outputId": "53c8da6c-e46a-4948-f6f0-3ce94f91ced2"
   },
   "outputs": [
    {
     "data": {
      "text/html": [
       "<div>\n",
       "<style scoped>\n",
       "    .dataframe tbody tr th:only-of-type {\n",
       "        vertical-align: middle;\n",
       "    }\n",
       "\n",
       "    .dataframe tbody tr th {\n",
       "        vertical-align: top;\n",
       "    }\n",
       "\n",
       "    .dataframe thead th {\n",
       "        text-align: right;\n",
       "    }\n",
       "</style>\n",
       "<table border=\"1\" class=\"dataframe\">\n",
       "  <thead>\n",
       "    <tr style=\"text-align: right;\">\n",
       "      <th></th>\n",
       "      <th>Open</th>\n",
       "      <th>S_3</th>\n",
       "      <th>S_15</th>\n",
       "      <th>S_60</th>\n",
       "      <th>OD</th>\n",
       "      <th>OL</th>\n",
       "      <th>Corr</th>\n",
       "    </tr>\n",
       "    <tr>\n",
       "      <th>Date</th>\n",
       "      <th></th>\n",
       "      <th></th>\n",
       "      <th></th>\n",
       "      <th></th>\n",
       "      <th></th>\n",
       "      <th></th>\n",
       "      <th></th>\n",
       "    </tr>\n",
       "  </thead>\n",
       "  <tbody>\n",
       "    <tr>\n",
       "      <th>2019-05-08</th>\n",
       "      <td>121.540001</td>\n",
       "      <td>120.890000</td>\n",
       "      <td>120.606668</td>\n",
       "      <td>122.611834</td>\n",
       "      <td>0.520004</td>\n",
       "      <td>0.330002</td>\n",
       "      <td>-0.221595</td>\n",
       "    </tr>\n",
       "    <tr>\n",
       "      <th>2019-05-09</th>\n",
       "      <td>120.959999</td>\n",
       "      <td>120.976667</td>\n",
       "      <td>120.633335</td>\n",
       "      <td>122.567001</td>\n",
       "      <td>-0.580002</td>\n",
       "      <td>0.049995</td>\n",
       "      <td>-0.290695</td>\n",
       "    </tr>\n",
       "    <tr>\n",
       "      <th>2019-05-10</th>\n",
       "      <td>121.410004</td>\n",
       "      <td>121.106667</td>\n",
       "      <td>120.694668</td>\n",
       "      <td>122.522667</td>\n",
       "      <td>0.450005</td>\n",
       "      <td>0.210007</td>\n",
       "      <td>-0.280418</td>\n",
       "    </tr>\n",
       "    <tr>\n",
       "      <th>2019-05-13</th>\n",
       "      <td>122.629997</td>\n",
       "      <td>121.180000</td>\n",
       "      <td>120.765334</td>\n",
       "      <td>122.490334</td>\n",
       "      <td>1.219993</td>\n",
       "      <td>1.199997</td>\n",
       "      <td>0.078028</td>\n",
       "    </tr>\n",
       "    <tr>\n",
       "      <th>2019-05-14</th>\n",
       "      <td>122.599998</td>\n",
       "      <td>121.766665</td>\n",
       "      <td>120.918667</td>\n",
       "      <td>122.467167</td>\n",
       "      <td>-0.029999</td>\n",
       "      <td>-0.070000</td>\n",
       "      <td>0.365089</td>\n",
       "    </tr>\n",
       "  </tbody>\n",
       "</table>\n",
       "</div>"
      ],
      "text/plain": [
       "                  Open         S_3        S_15        S_60        OD  \\\n",
       "Date                                                                   \n",
       "2019-05-08  121.540001  120.890000  120.606668  122.611834  0.520004   \n",
       "2019-05-09  120.959999  120.976667  120.633335  122.567001 -0.580002   \n",
       "2019-05-10  121.410004  121.106667  120.694668  122.522667  0.450005   \n",
       "2019-05-13  122.629997  121.180000  120.765334  122.490334  1.219993   \n",
       "2019-05-14  122.599998  121.766665  120.918667  122.467167 -0.029999   \n",
       "\n",
       "                  OL      Corr  \n",
       "Date                            \n",
       "2019-05-08  0.330002 -0.221595  \n",
       "2019-05-09  0.049995 -0.290695  \n",
       "2019-05-10  0.210007 -0.280418  \n",
       "2019-05-13  1.199997  0.078028  \n",
       "2019-05-14 -0.070000  0.365089  "
      ]
     },
     "execution_count": 6,
     "metadata": {},
     "output_type": "execute_result"
    }
   ],
   "source": [
    "# Independent variables\n",
    "X = gold_prices[['Open', 'S_3', 'S_15', 'S_60', 'OD', 'OL', 'Corr']]\n",
    "X.tail()"
   ]
  },
  {
   "cell_type": "code",
   "execution_count": 7,
   "metadata": {
    "id": "C85hR5UUPIMq",
    "outputId": "d06097ea-fd63-4398-cf6b-9acfe9e2a43f"
   },
   "outputs": [
    {
     "data": {
      "text/plain": [
       "Date\n",
       "2019-05-08    0.000000\n",
       "2019-05-09    0.660004\n",
       "2019-05-10    0.319999\n",
       "2019-05-13    0.220001\n",
       "2019-05-14    0.060006\n",
       "Name: Std_U, dtype: float64"
      ]
     },
     "execution_count": 7,
     "metadata": {},
     "output_type": "execute_result"
    }
   ],
   "source": [
    "# Dependent variable for upward deviation\n",
    "yU = gold_prices['Std_U']\n",
    "yU.tail()"
   ]
  },
  {
   "cell_type": "code",
   "execution_count": 8,
   "metadata": {
    "id": "uTxhJ69DPIMr",
    "outputId": "d401375b-7b56-42cb-cd8f-d3df76815629"
   },
   "outputs": [
    {
     "data": {
      "text/plain": [
       "Date\n",
       "2019-05-08    0.770004\n",
       "2019-05-09    0.099998\n",
       "2019-05-10    0.110001\n",
       "2019-05-13    0.299995\n",
       "2019-05-14    0.479995\n",
       "Name: Std_D, dtype: float64"
      ]
     },
     "execution_count": 8,
     "metadata": {},
     "output_type": "execute_result"
    }
   ],
   "source": [
    "# Dependent variable for downward deviation\n",
    "yD = gold_prices['Std_D']\n",
    "yD.tail()"
   ]
  },
  {
   "cell_type": "markdown",
   "metadata": {},
   "source": [
    "## Store the Data into CSV\n",
    "Now we will store our input parameters for further analysis by saving our dataframe into an `input_parameters` csv file."
   ]
  },
  {
   "cell_type": "code",
   "execution_count": 9,
   "metadata": {},
   "outputs": [],
   "source": [
    "gold_prices.to_csv('input_parameters.csv', index = True)"
   ]
  },
  {
   "cell_type": "markdown",
   "metadata": {
    "id": "yhXqyb9gPIMs"
   },
   "source": [
    "## Conclusion\n",
    "In this notebook we learned to create data indicators, dependent and independent variables.\n",
    "In the next notebook, we will perform data preprocessing and predict high and low values of GLD prices using linear regression model. <br><br>"
   ]
  }
 ],
 "metadata": {
  "colab": {
   "collapsed_sections": [],
   "name": "Data Preparation.ipynb",
   "provenance": [
    {
     "file_id": "1fQjdWSFxuOa4Ywb42tRGB9SzfDQZ0DH-",
     "timestamp": 1644837608904
    }
   ]
  },
  "kernelspec": {
   "display_name": "Python 3.10.4 64-bit",
   "language": "python",
   "name": "python3"
  },
  "language_info": {
   "codemirror_mode": {
    "name": "ipython",
    "version": 3
   },
   "file_extension": ".py",
   "mimetype": "text/x-python",
   "name": "python",
   "nbconvert_exporter": "python",
   "pygments_lexer": "ipython3",
   "version": "3.10.4 (tags/v3.10.4:9d38120, Mar 23 2022, 23:13:41) [MSC v.1929 64 bit (AMD64)]"
  },
  "vscode": {
   "interpreter": {
    "hash": "5159781d4911915b18c0fbe8a046748af728f2e0f1da92475ba775542874e153"
   }
  }
 },
 "nbformat": 4,
 "nbformat_minor": 1
}
