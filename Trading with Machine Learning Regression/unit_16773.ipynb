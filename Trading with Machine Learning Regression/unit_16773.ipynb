{
 "cells": [
  {
   "cell_type": "markdown",
   "metadata": {
    "id": "EiwKBHF_PIMc"
   },
   "source": [
    "# Notebook Instructions\n",
    "\n",
    "1. If you are new to Jupyter notebooks, please go through this introductory manual <a href='https://quantra.quantinsti.com/quantra-notebook' target=\"_blank\">here</a>.\n",
    "1. Any changes made in this notebook would be lost after you close the browser window. **You can download the notebook to save your work on your PC.**\n",
    "1. Before running this notebook on your local PC:<br>\n",
    "i.  You need to set up a Python environment and the relevant packages on your local PC. To do so, go through the section on \"**Run Codes Locally on Your Machine**\" in the course.<br>\n",
    "ii. You need to **download the zip file available in the last unit** of this course. The zip file contains the data files and/or python modules that might be required to run this notebook."
   ]
  },
  {
   "cell_type": "markdown",
   "metadata": {
    "id": "4iGjGoUVPIMh"
   },
   "source": [
    "## Import Data and Drop Missing Values\n",
    "\n",
    "In this notebook, you will learn how to import the data and remove missing values from your data. The key steps are:\n",
    "1. [Import the Libraries](#import)\n",
    "2. [Read Data from a CSV File](#read)\n",
    "3. [Check and Drop NaN Values ](#drop)\n",
    "\n",
    "\n",
    "<a id='import'></a>\n",
    "## Import the Libraries\n",
    "First, we will import `pandas` and `numpy` libraries for data manipulation and analysis. "
   ]
  },
  {
   "cell_type": "code",
   "execution_count": 1,
   "metadata": {
    "id": "ZooKULzpPIMj"
   },
   "outputs": [],
   "source": [
    "# Data manipulation\n",
    "import pandas as pd\n",
    "import numpy as np"
   ]
  },
  {
   "cell_type": "markdown",
   "metadata": {
    "id": "bHVWBjhEPIMl"
   },
   "source": [
    "<a id='read'></a>\n",
    "## Read Data from a CSV File\n",
    "\n",
    "A CSV (Comma Separated Value) file stores tabular content in the form of plain text. The values in this file are separated by a comma. You can use `pandas.read_csv()` to read the CSV file. We have saved the Gold ETF (GLD) data in OHLC format in a CSV file named `gold_prices.csv`. \n",
    "\n",
    "To import the data into our notebook, we will use the following lines of code.\n",
    "\n",
    "Syntax:\n",
    "```python\n",
    "import pandas as pd\n",
    "pd.read_csv(filename, parse_dates, index_col)\n",
    "```\n",
    "1. **filename**: Name of the file in string format, if the file is in the same folder as the notebook. If the CSV file is located in a different folder we will have to specify the full path or location of the file in string format. \n",
    "2. **parse_dates**: To parse the column specified as a datetime object. By default, date columns are treated as a string when loading data from a CSV file. To read the date column correctly, we can use the argument `parse_dates` and specify a column name which we want in the date format. If the column is not specified, then the first or specified index column can be parsed by `parse_dates = True`.\n",
    "3. **index_col**: The column name or number that you want to set as index (index number begins from 0)"
   ]
  },
  {
   "cell_type": "code",
   "execution_count": 2,
   "metadata": {
    "colab": {
     "base_uri": "https://localhost:8080/",
     "height": 235
    },
    "executionInfo": {
     "elapsed": 35,
     "status": "error",
     "timestamp": 1644753819636,
     "user": {
      "displayName": "Vinay Singh",
      "photoUrl": "https://lh3.googleusercontent.com/a/default-user=s64",
      "userId": "01105220728513689253"
     },
     "user_tz": -330
    },
    "id": "A9tnISscPIMm",
    "outputId": "ca628e89-5825-4116-f383-7bf69aa41575",
    "scrolled": false
   },
   "outputs": [
    {
     "data": {
      "text/html": [
       "<div>\n",
       "<style scoped>\n",
       "    .dataframe tbody tr th:only-of-type {\n",
       "        vertical-align: middle;\n",
       "    }\n",
       "\n",
       "    .dataframe tbody tr th {\n",
       "        vertical-align: top;\n",
       "    }\n",
       "\n",
       "    .dataframe thead th {\n",
       "        text-align: right;\n",
       "    }\n",
       "</style>\n",
       "<table border=\"1\" class=\"dataframe\">\n",
       "  <thead>\n",
       "    <tr style=\"text-align: right;\">\n",
       "      <th></th>\n",
       "      <th>Open</th>\n",
       "      <th>High</th>\n",
       "      <th>Low</th>\n",
       "      <th>Close</th>\n",
       "    </tr>\n",
       "    <tr>\n",
       "      <th>Date</th>\n",
       "      <th></th>\n",
       "      <th></th>\n",
       "      <th></th>\n",
       "      <th></th>\n",
       "    </tr>\n",
       "  </thead>\n",
       "  <tbody>\n",
       "    <tr>\n",
       "      <th>2013-04-15</th>\n",
       "      <td>136.000000</td>\n",
       "      <td>136.750000</td>\n",
       "      <td>130.509995</td>\n",
       "      <td>131.309998</td>\n",
       "    </tr>\n",
       "    <tr>\n",
       "      <th>2013-04-16</th>\n",
       "      <td>134.899994</td>\n",
       "      <td>135.110001</td>\n",
       "      <td>131.759995</td>\n",
       "      <td>132.800003</td>\n",
       "    </tr>\n",
       "    <tr>\n",
       "      <th>2013-04-17</th>\n",
       "      <td>133.809998</td>\n",
       "      <td>134.949997</td>\n",
       "      <td>132.320007</td>\n",
       "      <td>132.869995</td>\n",
       "    </tr>\n",
       "    <tr>\n",
       "      <th>2013-04-18</th>\n",
       "      <td>134.119995</td>\n",
       "      <td>135.309998</td>\n",
       "      <td>133.619995</td>\n",
       "      <td>134.300003</td>\n",
       "    </tr>\n",
       "    <tr>\n",
       "      <th>2013-04-19</th>\n",
       "      <td>136.000000</td>\n",
       "      <td>136.020004</td>\n",
       "      <td>134.600006</td>\n",
       "      <td>135.470001</td>\n",
       "    </tr>\n",
       "  </tbody>\n",
       "</table>\n",
       "</div>"
      ],
      "text/plain": [
       "                  Open        High         Low       Close\n",
       "Date                                                      \n",
       "2013-04-15  136.000000  136.750000  130.509995  131.309998\n",
       "2013-04-16  134.899994  135.110001  131.759995  132.800003\n",
       "2013-04-17  133.809998  134.949997  132.320007  132.869995\n",
       "2013-04-18  134.119995  135.309998  133.619995  134.300003\n",
       "2013-04-19  136.000000  136.020004  134.600006  135.470001"
      ]
     },
     "execution_count": 2,
     "metadata": {},
     "output_type": "execute_result"
    }
   ],
   "source": [
    "# Read the data\n",
    "gold_prices = pd.read_csv('../data_modules/gold_prices.csv',\n",
    "                          parse_dates=['Date'], index_col='Date')\n",
    "# Print dataframe\n",
    "gold_prices.head()"
   ]
  },
  {
   "cell_type": "markdown",
   "metadata": {
    "id": "fR86GzdH7vrA"
   },
   "source": [
    "<a id='drop'></a>\n",
    "## Check and Drop NaN Values\n",
    "\n",
    "To detect missing values in a dataframe, you can use the `isna()` function.\n",
    "\n",
    "Syntax:\n",
    "```python\n",
    "df.isna()\n",
    "```\n",
    "**df**: the dataframe to be checked for missing values.\n",
    "\n",
    "This function returns a boolean value indicating if the values are NA. It returns True or 1 for every value that is NA and False or 0 otherwise. We will also use the `sum()` function to get the total number of missing values in our dataset i.e. the sum of all True or 1 values returned by `isna()` function."
   ]
  },
  {
   "cell_type": "code",
   "execution_count": 3,
   "metadata": {
    "id": "nhZwM0Gn7vrA",
    "outputId": "eba2066c-3c95-482d-ab6a-095a310740e6",
    "scrolled": true
   },
   "outputs": [
    {
     "data": {
      "text/plain": [
       "Open     0\n",
       "High     0\n",
       "Low      0\n",
       "Close    0\n",
       "dtype: int64"
      ]
     },
     "execution_count": 3,
     "metadata": {},
     "output_type": "execute_result"
    }
   ],
   "source": [
    "# Here we check for NaN values\n",
    "gold_prices.isna().sum()"
   ]
  },
  {
   "cell_type": "markdown",
   "metadata": {
    "id": "yhXqyb9gPIMs"
   },
   "source": [
    "We can see that the output is 0 for all columns. Hence, `gold_prices` dataset does not have any `NaN` values.\n",
    "\n",
    "If the dataset included `NaN` values, you can remove them by using the `dropna()` method.\n",
    "\n",
    "Syntax:\n",
    "```python\n",
    "df.dropna(axis=0, how='any', inplace=True)\n",
    "```\n",
    "1. **axis**: Determines if rows or columns which contain missing values are removed (0, or ‘index’: Drop rows which contain missing values. 1, or ‘columns’: Drop columns which contain missing values).\n",
    "2. **how**: This parameter enables you to specify \"how\" the method will decide to drop a row or column from the dataframe. `how='any'` means dropna will drop the row if any of the values in that row are missing. `how='all'` means dropna will drop the row only if all of the values in that row are missing.\n",
    "3. **inplace**: bool, default False. If we want to make changes to the dataframe we are working on and overwrite what was there before we will use `inplace=True`. This will update the original dataframe \"in place\". When `inplace=False`, the changes we make will not reflect in the original dataframe. In this case, we will have to assign a new variable to store the modified dataframe.  \n",
    "\n",
    "## Conclusion\n",
    "In this notebook, we learned how to import the libraries and read data from CSV files. We also learned how to check and remove `NaN` values from our dataset.\n",
    "<br><br>"
   ]
  }
 ],
 "metadata": {
  "colab": {
   "collapsed_sections": [],
   "name": "Importing Data.ipynb",
   "provenance": [
    {
     "file_id": "1fQjdWSFxuOa4Ywb42tRGB9SzfDQZ0DH-",
     "timestamp": 1644837608904
    }
   ]
  },
  "kernelspec": {
   "display_name": "Python 3 (ipykernel)",
   "language": "python",
   "name": "python3"
  },
  "language_info": {
   "codemirror_mode": {
    "name": "ipython",
    "version": 3
   },
   "file_extension": ".py",
   "mimetype": "text/x-python",
   "name": "python",
   "nbconvert_exporter": "python",
   "pygments_lexer": "ipython3",
   "version": "3.9.5"
  }
 },
 "nbformat": 4,
 "nbformat_minor": 4
}
