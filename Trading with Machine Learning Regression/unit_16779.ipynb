{
 "cells": [
  {
   "cell_type": "markdown",
   "id": "16db5460",
   "metadata": {
    "id": "16db5460"
   },
   "source": [
    "# Notebook Instructions\n",
    "\n",
    "1. If you are new to Jupyter notebooks, please go through this introductory manual <a href='https://quantra.quantinsti.com/quantra-notebook' target=\"_blank\">here</a>.\n",
    "1. Any changes made in this notebook would be lost after you close the browser window. **You can download the notebook to save your work on your PC.**\n",
    "1. Before running this notebook on your local PC:<br>\n",
    "i.  You need to set up a Python environment and the relevant packages on your local PC. To do so, go through the section on \"**Run Codes Locally on Your Machine**\" in the course.<br>\n",
    "ii. You need to **download the zip file available in the last unit** of this course. The zip file contains the data files and/or python modules that might be required to run this notebook."
   ]
  },
  {
   "cell_type": "markdown",
   "id": "0dd6efeb",
   "metadata": {
    "id": "0dd6efeb"
   },
   "source": [
    "## Linear Regression and Predicting GLD Movement\n",
    "In the previous notebooks, we have covered how to create input and output datasets, cross-validation, train-test split and pipelines. \n",
    "\n",
    "In this notebook, we will learn how to use the linear regression function on our dataset. We will also predict the upward and downward movement of GLD and evaluate the error of the model. The key steps are:\n",
    "\n",
    "1. [Import the Data](#import)\n",
    "2. [Data Preprocessing](#preprocess)\n",
    "3. [Linear Regression](#lreg)\n",
    "4. [Predict GLD Movement](#pred)"
   ]
  },
  {
   "cell_type": "code",
   "execution_count": 1,
   "id": "fea3e67b",
   "metadata": {
    "id": "fea3e67b"
   },
   "outputs": [],
   "source": [
    "# Data manipulation\n",
    "import pandas as pd\n",
    "import numpy as np\n",
    "\n",
    "# Machine learning libraries\n",
    "from sklearn.linear_model import LinearRegression\n",
    "from sklearn.preprocessing import StandardScaler\n",
    "from sklearn.model_selection import TimeSeriesSplit\n",
    "from sklearn.model_selection import GridSearchCV\n",
    "from sklearn.pipeline import Pipeline\n",
    "from sklearn import metrics\n",
    "\n",
    "# To ignore unwanted warnings\n",
    "import warnings\n",
    "warnings.filterwarnings(\"ignore\")"
   ]
  },
  {
   "cell_type": "markdown",
   "id": "cd4a6446",
   "metadata": {
    "id": "cd4a6446"
   },
   "source": [
    "<a id='import'></a>\n",
    "## Import the Data\n",
    "\n",
    "The dependent (`yU`, `yD`) and independent (`X`) datasets for the `train` and `test` dataset is read from the CSV files. This data was prepared in the previous section and can be downloaded from the downloadable zip folder in the last section of this course."
   ]
  },
  {
   "cell_type": "code",
   "execution_count": 2,
   "id": "e2f265bc",
   "metadata": {
    "colab": {
     "base_uri": "https://localhost:8080/",
     "height": 407
    },
    "id": "e2f265bc",
    "outputId": "f48e067b-932d-4236-bae5-d8cbf9fbc9ff"
   },
   "outputs": [],
   "source": [
    "# Define the path for the data files\n",
    "path = \"../data_modules/\"\n",
    "\n",
    "# Read the train and test datasets\n",
    "X_train = pd.read_csv(path + \"gold_prices_X_train.csv\",\n",
    "                      index_col=0, parse_dates=True)\n",
    "X_test = pd.read_csv(path + \"gold_prices_X_test.csv\",\n",
    "                     index_col=0, parse_dates=True)\n",
    "yU_train = pd.read_csv(path + \"gold_prices_yU_train.csv\",\n",
    "                       index_col=0, parse_dates=True)\n",
    "yD_train = pd.read_csv(path + \"gold_prices_yD_train.csv\",\n",
    "                       index_col=0, parse_dates=True)\n",
    "yU_test = pd.read_csv(path + \"gold_prices_yU_test.csv\",\n",
    "                      index_col=0, parse_dates=True)\n",
    "yD_test = pd.read_csv(path + \"gold_prices_yD_test.csv\",\n",
    "                      index_col=0, parse_dates=True)"
   ]
  },
  {
   "cell_type": "markdown",
   "id": "6229fb0f",
   "metadata": {
    "id": "6229fb0f"
   },
   "source": [
    "<a id='preprocess'></a>\n",
    "## Data Preprocessing\n",
    "\n",
    "We will now use `Pipeline` for scaling and linear regression. We will use intercept as a hyperparameter to tune our algorithm. Next, we will use the `GridSearchCV` method for cross-validation and build our model. "
   ]
  },
  {
   "cell_type": "code",
   "execution_count": 3,
   "id": "ca638d15",
   "metadata": {
    "id": "ca638d15"
   },
   "outputs": [
    {
     "data": {
      "text/plain": [
       "GridSearchCV(cv=TimeSeriesSplit(gap=0, max_train_size=None, n_splits=5, test_size=None),\n",
       "             estimator=Pipeline(steps=[('scaler', StandardScaler()),\n",
       "                                       ('linear', LinearRegression())]),\n",
       "             param_grid={'linear__fit_intercept': [0, 1]},\n",
       "             scoring='neg_mean_squared_error')"
      ]
     },
     "execution_count": 3,
     "metadata": {},
     "output_type": "execute_result"
    }
   ],
   "source": [
    "# First we put scaling and then linear regression in the pipeline.\n",
    "steps = [('scaler', StandardScaler()),\n",
    "         ('linear', LinearRegression())]\n",
    "\n",
    "# Defining pipeline\n",
    "pipeline = Pipeline(steps)\n",
    "\n",
    "# Here we are using intercept as hyperparameter\n",
    "parameters = {'linear__fit_intercept': [0, 1]}\n",
    "\n",
    "# Using TimeSeriesSplit for cross validation\n",
    "my_cv = TimeSeriesSplit(n_splits=5)\n",
    "\n",
    "# Defining reg as variable for GridSearch funtcion containing pipeline, hyperparameters\n",
    "reg = GridSearchCV(pipeline, parameters,\n",
    "                   scoring='neg_mean_squared_error', cv=my_cv)\n",
    "\n",
    "# Fit the model\n",
    "reg.fit(X_train, yU_train)"
   ]
  },
  {
   "cell_type": "markdown",
   "id": "6bc5c8d0",
   "metadata": {
    "id": "6bc5c8d0"
   },
   "source": [
    "<a id='lreg'></a>\n",
    "## Linear Regression\n",
    "\n",
    "We will fit the linear regression model on the training dataset. \n",
    "\n",
    "<a id='best'></a>\n",
    "### Best Fit Variable \n",
    "\n",
    "As done earlier, we will create a best fit variable by calling the `best_params` function."
   ]
  },
  {
   "cell_type": "code",
   "execution_count": 4,
   "id": "d6c55f67",
   "metadata": {
    "id": "d6c55f67"
   },
   "outputs": [
    {
     "name": "stdout",
     "output_type": "stream",
     "text": [
      "{'linear__fit_intercept': 1}\n"
     ]
    }
   ],
   "source": [
    "# Create Best fit variable\n",
    "best_fit = reg.best_params_\n",
    "\n",
    "# Print best parameter\n",
    "print(reg.best_params_)"
   ]
  },
  {
   "cell_type": "markdown",
   "id": "ad1af131",
   "metadata": {
    "id": "ad1af131"
   },
   "source": [
    "We can see that `best_params_` for our model gives `linear_fit_intercept` equal to one. This means our model will contain an intercept for better performance. \n",
    "\n",
    "We will use the `LinearRegression` function of the scikit-learn library to create a linear regression model. We will pass the arguments, `fit_intercept` = `best_fit`, where `best_fit` is the value that decides the intercept parameter for the `LinearRegression` function."
   ]
  },
  {
   "cell_type": "code",
   "execution_count": 5,
   "id": "92c15b79",
   "metadata": {
    "id": "92c15b79"
   },
   "outputs": [],
   "source": [
    "# Linear Regression\n",
    "reg = LinearRegression(fit_intercept=best_fit)"
   ]
  },
  {
   "cell_type": "markdown",
   "id": "875b868a",
   "metadata": {
    "id": "875b868a"
   },
   "source": [
    "<a id='pred'></a>\n",
    "## Predict GLD Movement\n",
    "\n",
    "We will predict the upward deviation using `reg` model on test dataset. We define `yU_predict` for upward prediction."
   ]
  },
  {
   "cell_type": "code",
   "execution_count": 6,
   "id": "3ccbf9d0",
   "metadata": {
    "colab": {
     "base_uri": "https://localhost:8080/",
     "height": 240
    },
    "id": "3ccbf9d0",
    "outputId": "87f5fe6a-0efa-4dd9-e33b-85df55b48568"
   },
   "outputs": [],
   "source": [
    "# Fit the model\n",
    "reg.fit(X_train, yU_train)\n",
    "\n",
    "# Predict the upward deviation\n",
    "yU_predict = reg.predict(X_test)"
   ]
  },
  {
   "cell_type": "markdown",
   "id": "e0ed3c8c",
   "metadata": {
    "id": "e0ed3c8c"
   },
   "source": [
    "Similarly, we will fit the data to predict downward deviation using `X_train` and `yD_train`. Then, we will predict the downward deviation and assign it to a variable named `yD_predict`."
   ]
  },
  {
   "cell_type": "code",
   "execution_count": 7,
   "id": "82efa4b5",
   "metadata": {
    "id": "82efa4b5"
   },
   "outputs": [],
   "source": [
    "# Fit the model\n",
    "reg.fit(X_train, yD_train)\n",
    "\n",
    "# Predict the downward deviation\n",
    "yD_predict = reg.predict(X_test)"
   ]
  },
  {
   "cell_type": "markdown",
   "id": "790abffa",
   "metadata": {},
   "source": [
    "We will add the predicted values to `X_test` dataset for further analysis. "
   ]
  },
  {
   "cell_type": "code",
   "execution_count": 8,
   "id": "9bd7e5bb",
   "metadata": {},
   "outputs": [
    {
     "data": {
      "text/html": [
       "<div>\n",
       "<style scoped>\n",
       "    .dataframe tbody tr th:only-of-type {\n",
       "        vertical-align: middle;\n",
       "    }\n",
       "\n",
       "    .dataframe tbody tr th {\n",
       "        vertical-align: top;\n",
       "    }\n",
       "\n",
       "    .dataframe thead th {\n",
       "        text-align: right;\n",
       "    }\n",
       "</style>\n",
       "<table border=\"1\" class=\"dataframe\">\n",
       "  <thead>\n",
       "    <tr style=\"text-align: right;\">\n",
       "      <th></th>\n",
       "      <th>Open</th>\n",
       "      <th>S_3</th>\n",
       "      <th>S_15</th>\n",
       "      <th>S_60</th>\n",
       "      <th>OD</th>\n",
       "      <th>OL</th>\n",
       "      <th>Corr</th>\n",
       "      <th>yU_predict</th>\n",
       "      <th>yD_predict</th>\n",
       "    </tr>\n",
       "    <tr>\n",
       "      <th>Date</th>\n",
       "      <th></th>\n",
       "      <th></th>\n",
       "      <th></th>\n",
       "      <th></th>\n",
       "      <th></th>\n",
       "      <th></th>\n",
       "      <th></th>\n",
       "      <th></th>\n",
       "      <th></th>\n",
       "    </tr>\n",
       "  </thead>\n",
       "  <tbody>\n",
       "    <tr>\n",
       "      <th>2019-05-08</th>\n",
       "      <td>121.540001</td>\n",
       "      <td>120.890000</td>\n",
       "      <td>120.606668</td>\n",
       "      <td>122.611834</td>\n",
       "      <td>0.520004</td>\n",
       "      <td>-0.330002</td>\n",
       "      <td>-0.221595</td>\n",
       "      <td>0.501053</td>\n",
       "      <td>0.533787</td>\n",
       "    </tr>\n",
       "    <tr>\n",
       "      <th>2019-05-09</th>\n",
       "      <td>120.959999</td>\n",
       "      <td>120.976667</td>\n",
       "      <td>120.633335</td>\n",
       "      <td>122.567001</td>\n",
       "      <td>-0.580002</td>\n",
       "      <td>-0.049995</td>\n",
       "      <td>-0.290695</td>\n",
       "      <td>0.508194</td>\n",
       "      <td>0.526315</td>\n",
       "    </tr>\n",
       "    <tr>\n",
       "      <th>2019-05-10</th>\n",
       "      <td>121.410004</td>\n",
       "      <td>121.106667</td>\n",
       "      <td>120.694668</td>\n",
       "      <td>122.522667</td>\n",
       "      <td>0.450005</td>\n",
       "      <td>-0.210007</td>\n",
       "      <td>-0.280418</td>\n",
       "      <td>0.512847</td>\n",
       "      <td>0.528816</td>\n",
       "    </tr>\n",
       "    <tr>\n",
       "      <th>2019-05-13</th>\n",
       "      <td>122.629997</td>\n",
       "      <td>121.180000</td>\n",
       "      <td>120.765334</td>\n",
       "      <td>122.490334</td>\n",
       "      <td>1.219993</td>\n",
       "      <td>-1.199997</td>\n",
       "      <td>0.078028</td>\n",
       "      <td>0.504600</td>\n",
       "      <td>0.530648</td>\n",
       "    </tr>\n",
       "    <tr>\n",
       "      <th>2019-05-14</th>\n",
       "      <td>122.599998</td>\n",
       "      <td>121.766665</td>\n",
       "      <td>120.918667</td>\n",
       "      <td>122.467167</td>\n",
       "      <td>-0.029999</td>\n",
       "      <td>0.070000</td>\n",
       "      <td>0.365089</td>\n",
       "      <td>0.473075</td>\n",
       "      <td>0.538222</td>\n",
       "    </tr>\n",
       "  </tbody>\n",
       "</table>\n",
       "</div>"
      ],
      "text/plain": [
       "                  Open         S_3        S_15        S_60        OD  \\\n",
       "Date                                                                   \n",
       "2019-05-08  121.540001  120.890000  120.606668  122.611834  0.520004   \n",
       "2019-05-09  120.959999  120.976667  120.633335  122.567001 -0.580002   \n",
       "2019-05-10  121.410004  121.106667  120.694668  122.522667  0.450005   \n",
       "2019-05-13  122.629997  121.180000  120.765334  122.490334  1.219993   \n",
       "2019-05-14  122.599998  121.766665  120.918667  122.467167 -0.029999   \n",
       "\n",
       "                  OL      Corr  yU_predict  yD_predict  \n",
       "Date                                                    \n",
       "2019-05-08 -0.330002 -0.221595    0.501053    0.533787  \n",
       "2019-05-09 -0.049995 -0.290695    0.508194    0.526315  \n",
       "2019-05-10 -0.210007 -0.280418    0.512847    0.528816  \n",
       "2019-05-13 -1.199997  0.078028    0.504600    0.530648  \n",
       "2019-05-14  0.070000  0.365089    0.473075    0.538222  "
      ]
     },
     "execution_count": 8,
     "metadata": {},
     "output_type": "execute_result"
    }
   ],
   "source": [
    "# Create new columns in X_test\n",
    "X_test['yU_predict'] = yU_predict\n",
    "X_test['yD_predict'] = yD_predict\n",
    "\n",
    "# Print tail of X_test\n",
    "X_test.tail()"
   ]
  },
  {
   "cell_type": "markdown",
   "id": "7d1f22a1",
   "metadata": {},
   "source": [
    "Finally, let's see how well our model performed by calculating the mean squared error. This metric will simply give us the average of the square of the differences between the actual values and predicted values. Since this is an error metric, a lower value is desirable."
   ]
  },
  {
   "cell_type": "code",
   "execution_count": 9,
   "id": "7c3873c7",
   "metadata": {},
   "outputs": [
    {
     "name": "stdout",
     "output_type": "stream",
     "text": [
      "0.11543997220418288 0.10119894418942185\n"
     ]
    }
   ],
   "source": [
    "# Calculate MSE for upward deviations\n",
    "yU_MSE = metrics.mean_squared_error(yU_test, yU_predict)\n",
    "\n",
    "# Calculate MSE for downward deviations\n",
    "yD_MSE = metrics.mean_squared_error(yD_test, yD_predict)\n",
    "\n",
    "# Print the results\n",
    "print(yU_MSE, yD_MSE)"
   ]
  },
  {
   "cell_type": "markdown",
   "id": "1db9fba1",
   "metadata": {
    "id": "1db9fba1"
   },
   "source": [
    "We get the MSE as 11.5% for the upward deviations and 10.1% for downward deviations which suggests that the model has performed well. \n",
    "\n",
    "## Conclusion\n",
    "In this notebook, we have predicted the Upward and Downward movement of GLD represented by `yU_predict` and `yD_predict`, respectively, using the `LinearRegression` function. We also learned how to calculate the mean squared error and evaluate our model's performance. <br><br>"
   ]
  }
 ],
 "metadata": {
  "colab": {
   "collapsed_sections": [],
   "name": "6- Linear Regression and Predicting GLD Movement.ipynb",
   "provenance": []
  },
  "kernelspec": {
   "display_name": "Python 3.10.4 64-bit",
   "language": "python",
   "name": "python3"
  },
  "language_info": {
   "codemirror_mode": {
    "name": "ipython",
    "version": 3
   },
   "file_extension": ".py",
   "mimetype": "text/x-python",
   "name": "python",
   "nbconvert_exporter": "python",
   "pygments_lexer": "ipython3",
   "version": "3.10.4"
  },
  "vscode": {
   "interpreter": {
    "hash": "5159781d4911915b18c0fbe8a046748af728f2e0f1da92475ba775542874e153"
   }
  }
 },
 "nbformat": 4,
 "nbformat_minor": 5
}
