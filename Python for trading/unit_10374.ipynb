{
 "cells": [
  {
   "cell_type": "markdown",
   "id": "f1178c71-8e3a-45a0-8fac-4469c8789939",
   "metadata": {},
   "source": [
    "# Notebook Instructions\n",
    "\n",
    "1. If you are new to Jupyter notebooks, please go through this introductory manual <a href='https://quantra.quantinsti.com/quantra-notebook' target=\"_blank\">here</a>.\n",
    "1. Any changes made in this notebook would be lost after you close the browser window. **You can download the notebook to save your work on your PC.**\n",
    "1. Before running this notebook on your local PC:<br>\n",
    "i.  You need to set up a Python environment and the relevant packages on your local PC. To do so, go through the section on \"**Run Codes Locally on Your Machine**\" in the course.<br>\n",
    "ii. You need to **download the zip file available in the last unit** of this course. The zip file contains the data files and/or python modules that might be required to run this notebook."
   ]
  },
  {
   "cell_type": "markdown",
   "id": "87101543",
   "metadata": {
    "id": "1B5mhW8iHZb1"
   },
   "source": [
    "## Data Structures: Dictionaries\n",
    "\n",
    "Dictionaries are mutable sequences that allow data retrieval by 'keys'. They are also called as 'key-value stores'. Curly brackets define dictionaries. Let us define a dictionary and return the type of data structure."
   ]
  },
  {
   "cell_type": "markdown",
   "id": "c3f59b31",
   "metadata": {
    "id": "2L-6YZY4HZb1"
   },
   "source": [
    "#### Define a Dictionary (Keys and Values) and Return the Type of Data Structure\n",
    "\n",
    "We can use '\\' to skip to the next line, if your line of code is too long."
   ]
  },
  {
   "cell_type": "code",
   "execution_count": 1,
   "id": "7e90ccdd",
   "metadata": {
    "id": "i9j0i89rHZb2",
    "outputId": "f8386b28-52cc-4484-8b58-77e902d71e8f",
    "scrolled": true
   },
   "outputs": [
    {
     "data": {
      "text/plain": [
       "dict"
      ]
     },
     "execution_count": 1,
     "metadata": {},
     "output_type": "execute_result"
    }
   ],
   "source": [
    "d = { 'India' : 'Narendra Modi', 'USA' : 'Donald Trump', 'Germany' : 'Angela Merkel',\\\n",
    "     'Russia' : 'Vladimir Putin', 'China' : 'Xi Jinping'}\n",
    "type (d)"
   ]
  },
  {
   "cell_type": "markdown",
   "id": "dbba2493",
   "metadata": {
    "id": "g3nqzmgIHZb3"
   },
   "source": [
    "#### Print the Dictionary"
   ]
  },
  {
   "cell_type": "code",
   "execution_count": 2,
   "id": "79ba772c",
   "metadata": {
    "id": "RT59JDGbHZb3",
    "outputId": "920f65f6-47d1-46df-a03d-4c570eb50849",
    "scrolled": false
   },
   "outputs": [
    {
     "name": "stdout",
     "output_type": "stream",
     "text": [
      "{'India': 'Narendra Modi', 'USA': 'Donald Trump', 'Germany': 'Angela Merkel', 'Russia': 'Vladimir Putin', 'China': 'Xi Jinping'}\n"
     ]
    }
   ],
   "source": [
    "print (d)"
   ]
  },
  {
   "cell_type": "markdown",
   "id": "b051a181",
   "metadata": {
    "id": "eYg2NHOqHZb4"
   },
   "source": [
    "#### Print the Values Using the Keys"
   ]
  },
  {
   "cell_type": "code",
   "execution_count": 3,
   "id": "35c98214",
   "metadata": {
    "id": "GcSIryiCHZb4",
    "outputId": "75f39cb9-db5c-4ba3-9300-ae10ee372829",
    "scrolled": true
   },
   "outputs": [
    {
     "name": "stdout",
     "output_type": "stream",
     "text": [
      "Narendra Modi Donald Trump\n"
     ]
    }
   ],
   "source": [
    "print (d ['India'], d ['USA'])"
   ]
  },
  {
   "cell_type": "markdown",
   "id": "e0f6952c",
   "metadata": {
    "id": "ptrdcjmeHZb4"
   },
   "source": [
    "#### Return the Keys"
   ]
  },
  {
   "cell_type": "code",
   "execution_count": 4,
   "id": "7d55efd0",
   "metadata": {
    "id": "Gx1AdeAiHZb5",
    "outputId": "6f54e4d8-a4bd-4dd8-e36c-ce76a24977f4"
   },
   "outputs": [
    {
     "data": {
      "text/plain": [
       "dict_keys(['India', 'USA', 'Germany', 'Russia', 'China'])"
      ]
     },
     "execution_count": 4,
     "metadata": {},
     "output_type": "execute_result"
    }
   ],
   "source": [
    "d.keys()"
   ]
  },
  {
   "cell_type": "markdown",
   "id": "74ad58f9",
   "metadata": {
    "id": "8NtJQaHwHZb5"
   },
   "source": [
    "#### Return the Values"
   ]
  },
  {
   "cell_type": "code",
   "execution_count": 5,
   "id": "ca316c6b",
   "metadata": {
    "id": "YN8UP3BGHZb5",
    "outputId": "900755e1-53bd-48eb-8f9a-10b8d6509416",
    "scrolled": true
   },
   "outputs": [
    {
     "data": {
      "text/plain": [
       "dict_values(['Narendra Modi', 'Donald Trump', 'Angela Merkel', 'Vladimir Putin', 'Xi Jinping'])"
      ]
     },
     "execution_count": 5,
     "metadata": {},
     "output_type": "execute_result"
    }
   ],
   "source": [
    "d.values()"
   ]
  },
  {
   "cell_type": "markdown",
   "id": "cee69ee0",
   "metadata": {
    "id": "BXau9nbUHZb6"
   },
   "source": [
    "#### Return All the Items"
   ]
  },
  {
   "cell_type": "code",
   "execution_count": 6,
   "id": "70e0e452",
   "metadata": {
    "id": "3yw2xNCRHZb6",
    "outputId": "eec6b300-3c77-414e-f5c0-654a86f85559"
   },
   "outputs": [
    {
     "data": {
      "text/plain": [
       "dict_items([('India', 'Narendra Modi'), ('USA', 'Donald Trump'), ('Germany', 'Angela Merkel'), ('Russia', 'Vladimir Putin'), ('China', 'Xi Jinping')])"
      ]
     },
     "execution_count": 6,
     "metadata": {},
     "output_type": "execute_result"
    }
   ],
   "source": [
    "d.items()"
   ]
  },
  {
   "cell_type": "markdown",
   "id": "f27aedd5",
   "metadata": {
    "id": "Q_bWQXvPHZb6"
   },
   "source": [
    "#### Delete a Key Value Pair"
   ]
  },
  {
   "cell_type": "code",
   "execution_count": 10,
   "id": "b5c8e509",
   "metadata": {
    "id": "I1-vic_eHZb6",
    "outputId": "d8dc02a8-d535-478b-f16e-f14294483337"
   },
   "outputs": [
    {
     "name": "stdout",
     "output_type": "stream",
     "text": [
      "{'India': 'Narendra Modi', 'Russia': 'Vladimir Putin', 'China': 'Xi Jinping'}\n"
     ]
    }
   ],
   "source": [
    "if 'USA' in d: del d['USA']\n",
    "print (d)"
   ]
  },
  {
   "cell_type": "markdown",
   "id": "86d899d6",
   "metadata": {
    "id": "M1QGWSsmHZb7"
   },
   "source": [
    "#### Pop a Value Using the Key\n",
    "\n",
    "We use pop() function to get the value corresponding to a key"
   ]
  },
  {
   "cell_type": "code",
   "execution_count": 11,
   "id": "f2a5ab34",
   "metadata": {
    "id": "qtgvCiWOHZb7",
    "outputId": "49844e5e-97cb-4672-90c4-34127dabab87"
   },
   "outputs": [
    {
     "data": {
      "text/plain": [
       "'Narendra Modi'"
      ]
     },
     "execution_count": 11,
     "metadata": {},
     "output_type": "execute_result"
    }
   ],
   "source": [
    "d.pop('India')"
   ]
  },
  {
   "cell_type": "markdown",
   "id": "e8cc7bb1",
   "metadata": {
    "id": "BNdTHQVsHZb7"
   },
   "source": [
    "#### Clear the Items in the Dictionary"
   ]
  },
  {
   "cell_type": "code",
   "execution_count": 12,
   "id": "cf2790fc",
   "metadata": {
    "id": "IL9f1gBYHZb8",
    "outputId": "516ca093-f9bc-4e53-ceb6-3d2048896bd9"
   },
   "outputs": [
    {
     "name": "stdout",
     "output_type": "stream",
     "text": [
      "{}\n"
     ]
    }
   ],
   "source": [
    "d.clear()\n",
    "print (d)"
   ]
  },
  {
   "cell_type": "markdown",
   "id": "5f68d635",
   "metadata": {
    "id": "DfWd-O8JHZb9"
   },
   "source": [
    "In the upcoming units, you will learn about <b> Tuples and Sets</b>. <b><b>"
   ]
  }
 ],
 "metadata": {
  "anaconda-cloud": {},
  "colab": {
   "collapsed_sections": [],
   "name": "Dictionaries.ipynb",
   "provenance": []
  },
  "kernelspec": {
   "display_name": "Python 3.10.4 64-bit",
   "language": "python",
   "name": "python3"
  },
  "language_info": {
   "codemirror_mode": {
    "name": "ipython",
    "version": 3
   },
   "file_extension": ".py",
   "mimetype": "text/x-python",
   "name": "python",
   "nbconvert_exporter": "python",
   "pygments_lexer": "ipython3",
   "version": "3.10.4"
  },
  "vscode": {
   "interpreter": {
    "hash": "5159781d4911915b18c0fbe8a046748af728f2e0f1da92475ba775542874e153"
   }
  }
 },
 "nbformat": 4,
 "nbformat_minor": 5
}
