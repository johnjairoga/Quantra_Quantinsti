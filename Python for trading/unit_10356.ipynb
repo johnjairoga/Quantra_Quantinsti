{
 "cells": [
  {
   "cell_type": "markdown",
   "id": "f1178c71-8e3a-45a0-8fac-4469c8789939",
   "metadata": {},
   "source": [
    "# Notebook Instructions\n",
    "\n",
    "1. If you are new to Jupyter notebooks, please go through this introductory manual <a href='https://quantra.quantinsti.com/quantra-notebook' target=\"_blank\">here</a>.\n",
    "1. Any changes made in this notebook would be lost after you close the browser window. **You can download the notebook to save your work on your PC.**\n",
    "1. Before running this notebook on your local PC:<br>\n",
    "i.  You need to set up a Python environment and the relevant packages on your local PC. To do so, go through the section on \"**Run Codes Locally on Your Machine**\" in the course.<br>\n",
    "ii. You need to **download the zip file available in the last unit** of this course. The zip file contains the data files and/or python modules that might be required to run this notebook."
   ]
  },
  {
   "cell_type": "markdown",
   "id": "646a4f5c",
   "metadata": {},
   "source": [
    "# Python Primer\n",
    "\n",
    "Python uses a simple syntax which makes it very easy for someone learning to program for the first time. This primer is comprehensively designed to help you get familiarized with programming and learn the basics of Python."
   ]
  },
  {
   "cell_type": "markdown",
   "id": "f565f26a",
   "metadata": {},
   "source": [
    "## 1. What is programming?\n",
    "Programming is the way of telling a machine what to do. This machine might be your computer, smartphone, or tablet. The task might be something as simple as noting down today’s date or capturing information about the Earth’s atmosphere on a satellite. Programming has a lot of alias names and they’re used interchangeably. It goes by programming, developing, or coding all of which involves creating software that gets a machine to do what you want them to do."
   ]
  },
  {
   "cell_type": "markdown",
   "id": "1a39bac0",
   "metadata": {},
   "source": [
    "## 2. Introduction to Python programming\n",
    "\n",
    "Python design places more weight on coding productivity and code readability. Python makes use of simple syntax which looks like written English. It talks with words and sentences, rather than characters. Python is a portable language. Python can be installed and run on any computer.\n",
    "\n",
    "Python coding is a lot of fun and is easy. Take this python code for an example:\n"
   ]
  },
  {
   "cell_type": "code",
   "execution_count": 1,
   "id": "9558b300",
   "metadata": {},
   "outputs": [
    {
     "name": "stdout",
     "output_type": "stream",
     "text": [
      "5\n"
     ]
    }
   ],
   "source": [
    "x = 2\n",
    "y = 3\n",
    "sum = x + y\n",
    "print (sum)"
   ]
  },
  {
   "cell_type": "markdown",
   "id": "200e44f7",
   "metadata": {},
   "source": [
    "Even without any coding background, you can easily make out that the code adds up two numbers and prints it. You may modify the code above and try different mathematical operations on different variables."
   ]
  },
  {
   "cell_type": "markdown",
   "id": "a45d7af5",
   "metadata": {},
   "source": [
    "###    a. Indentation\n",
    "Python forces you to follow proper indentation. The number of spaces in indentation can be different, but all line of codes within the same block should have the same number of spaces in the indentation. It's not essential to add a semicolon at the end of a line.\n",
    "\n",
    "For example, the 3rd line of the code in the cell below shows incorrect indentation. Try running the code to see the error that it throws."
   ]
  },
  {
   "cell_type": "code",
   "execution_count": 2,
   "id": "1e4dd8cf",
   "metadata": {},
   "outputs": [
    {
     "ename": "IndentationError",
     "evalue": "unexpected indent (<ipython-input-2-b2e87e0f8dd4>, line 3)",
     "output_type": "error",
     "traceback": [
      "\u001b[0;36m  File \u001b[0;32m\"<ipython-input-2-b2e87e0f8dd4>\"\u001b[0;36m, line \u001b[0;32m3\u001b[0m\n\u001b[0;31m    num_sq = num ** 2\u001b[0m\n\u001b[0m    ^\u001b[0m\n\u001b[0;31mIndentationError\u001b[0m\u001b[0;31m:\u001b[0m unexpected indent\n"
     ]
    }
   ],
   "source": [
    "# Python Program to calculate the square of number\n",
    "num = 8\n",
    "   num_sq = num ** 2\n",
    "print (num_sq)"
   ]
  },
  {
   "cell_type": "markdown",
   "id": "2fa57917",
   "metadata": {},
   "source": [
    "You can see that it throws an indentation error. Now, try removing the spaces before num_sq, so that all three lines have the same indentation. "
   ]
  },
  {
   "cell_type": "markdown",
   "id": "9d14326d",
   "metadata": {},
   "source": [
    "### b. Syntax\n",
    "The syntax to use ceil method of math library is: math.ceil(x)\n",
    "\n",
    "Ceil returns the ceiling of x as a float, the smallest integer value greater than or equal to x."
   ]
  },
  {
   "cell_type": "code",
   "execution_count": 4,
   "id": "dfb3b737",
   "metadata": {},
   "outputs": [
    {
     "data": {
      "text/plain": [
       "6"
      ]
     },
     "execution_count": 4,
     "metadata": {},
     "output_type": "execute_result"
    }
   ],
   "source": [
    "import math\n",
    "math.ceil(5.4) "
   ]
  },
  {
   "cell_type": "markdown",
   "id": "844619ab",
   "metadata": {},
   "source": [
    "### c. Multi-Line Statements\n",
    "There is no semicolon to indicate an end of the statement and therefore Python interprets the end of the line as the end of the statement. However, to make code readable there is a need to split a single line of code into multiple lines. In such a scenario, use backward slash as line continuation character to specify that the line should continue. \n",
    "\n",
    "For example, a code to calculate total marks."
   ]
  },
  {
   "cell_type": "code",
   "execution_count": 5,
   "id": "50512e15",
   "metadata": {},
   "outputs": [
    {
     "name": "stdout",
     "output_type": "stream",
     "text": [
      "357\n"
     ]
    }
   ],
   "source": [
    "biology_marks = 82\n",
    "physics_marks = 91\n",
    "maths_marks = 96\n",
    "chemistry_marks = 88\n",
    "total_marks = biology_marks + physics_marks + maths_marks + chemistry_marks\n",
    "print (total_marks)"
   ]
  },
  {
   "cell_type": "markdown",
   "id": "41b60aec",
   "metadata": {},
   "source": [
    "The line of code is split into multiple lines using ‘\\’ as shown below:"
   ]
  },
  {
   "cell_type": "code",
   "execution_count": 6,
   "id": "e04c8e81",
   "metadata": {},
   "outputs": [
    {
     "name": "stdout",
     "output_type": "stream",
     "text": [
      "357\n"
     ]
    }
   ],
   "source": [
    "total_marks = biology_marks + \\\n",
    "              physics_marks + \\\n",
    "              maths_marks + \\\n",
    "              chemistry_marks\n",
    "print (total_marks)"
   ]
  },
  {
   "cell_type": "markdown",
   "id": "85c8cedd",
   "metadata": {},
   "source": [
    "Coding statements inside the [], {}, or () brackets do not require the usage of the line continuation character. \n",
    "\n",
    "For instance, to initialize list planets with the name of planets:"
   ]
  },
  {
   "cell_type": "code",
   "execution_count": 7,
   "id": "b3aa6413",
   "metadata": {},
   "outputs": [],
   "source": [
    "planets = ['Mars', 'Jupiter', 'Earth', 'Venus', 'Uranus', 'Neptune', \n",
    "           'Mercury', 'Saturn']"
   ]
  },
  {
   "cell_type": "markdown",
   "id": "1a0628aa",
   "metadata": {},
   "source": [
    "### d. Comments in Python\n",
    "A hash sign (#) begins a comment except when used inside a string. All words in a line after # are part of the comment and the Python interpreter ignores them.\n",
    "\n",
    "Example 1: Use # to add a comment."
   ]
  },
  {
   "cell_type": "code",
   "execution_count": 8,
   "id": "41e701c0",
   "metadata": {},
   "outputs": [
    {
     "name": "stdout",
     "output_type": "stream",
     "text": [
      "Hello, QuantInsti!\n"
     ]
    }
   ],
   "source": [
    "# First comment\n",
    "print (\"Hello, QuantInsti!\") # Second comment"
   ]
  },
  {
   "cell_type": "markdown",
   "id": "3eaac1e0",
   "metadata": {},
   "source": [
    "Example 2: Use of # inside string"
   ]
  },
  {
   "cell_type": "code",
   "execution_count": 9,
   "id": "815df5f9",
   "metadata": {},
   "outputs": [
    {
     "name": "stdout",
     "output_type": "stream",
     "text": [
      "#TodayIsSunday #HolidayDiaries #LotOfFun\n"
     ]
    }
   ],
   "source": [
    "instagram_tag = \"#TodayIsSunday #HolidayDiaries #LotOfFun\"\n",
    "print (instagram_tag)"
   ]
  },
  {
   "cell_type": "markdown",
   "id": "1bf4e6e6",
   "metadata": {},
   "source": [
    "### e. Variables\n",
    "In Python, variables are not required to be declared explicitly. The declaration and memory allocation happen dynamically when a value is assigned to a variable. The equal to, ‘=’, is used to assign values to a variable. The text value to the left of ‘=’, is the variable name and the value to the right of equal to, ‘=’, is the value stored in that variable. \n",
    "\n",
    "For instance: 9, 73.0 and \"QuantInsti\" are the values stored in num_of_planets, weights, and institute variables, respectively.\n"
   ]
  },
  {
   "cell_type": "code",
   "execution_count": 10,
   "id": "96ab912a",
   "metadata": {},
   "outputs": [
    {
     "name": "stdout",
     "output_type": "stream",
     "text": [
      "9\n",
      "73.0\n",
      "QuantInsti\n"
     ]
    }
   ],
   "source": [
    "num_of_planets = 9         # An integer\n",
    "weight = 73.0              # A floating point\n",
    "institute = \"QuantInsti\"   # A string literal\n",
    "\n",
    "print (num_of_planets)\n",
    "print (weight)\n",
    "print (institute)"
   ]
  },
  {
   "cell_type": "markdown",
   "id": "b696351c",
   "metadata": {},
   "source": [
    "In Python, variable names must start with a letter or an underscore and the remaining of the variable name may consist of letters, numbers, and underscores. Names are case sensitive. QUANTINSTI, quantinsti and QuantInsti are each a different variable."
   ]
  },
  {
   "cell_type": "markdown",
   "id": "2440b904",
   "metadata": {},
   "source": [
    "### f. Decision Making\n",
    "It is required when we need to execute a code statement only if a particular condition is fulfilled.\n",
    "\n",
    "The if…elif…else statement is used for this in Python.\n",
    "\n",
    "if condition1:\n",
    "    # Statement(s) # (block 1)\n",
    "elif condition2:\n",
    "    # Statement(s) # (block 2)\n",
    "else:\n",
    "    # Statement(s) # (block 3)\n",
    "    \n",
    "The program checks the condition1 and will execute statement(s) in block 1 only if the condition1 is satisfied. If the condition1 is not satisfied, then the statement(s) in block 1 is (are) not executed. When all the condition(s) are false, the statement(s) below else, block 3, is executed."
   ]
  },
  {
   "cell_type": "code",
   "execution_count": 14,
   "id": "63dc3c5b",
   "metadata": {},
   "outputs": [
    {
     "name": "stdout",
     "output_type": "stream",
     "text": [
      "21 is positive\n",
      "Always printed\n"
     ]
    }
   ],
   "source": [
    "n = 21\n",
    "if n > 0:\n",
    "    print (n, \"is positive\")\n",
    "print (\"Always printed\")"
   ]
  },
  {
   "cell_type": "code",
   "execution_count": 8,
   "id": "a2521aa7",
   "metadata": {},
   "outputs": [
    {
     "name": "stdout",
     "output_type": "stream",
     "text": [
      "Always printed\n"
     ]
    }
   ],
   "source": [
    "n = -15\n",
    "if n > 0:\n",
    "    print (n, \"is positive\")\n",
    "print (\"Always printed\")"
   ]
  },
  {
   "cell_type": "markdown",
   "id": "c8b09a1e",
   "metadata": {},
   "source": [
    "### g. Loops\n",
    "In Python, a line of code is executed one after other. But in certain cases, it is required to execute a block of code multiple times. For that, Python provides various control statements known as “loops” which allow non-sequential execution path. Within a loop, you can execute a block of code multiple numbers of times. These are also called “iterations”.\n",
    "\n",
    "Python programming language provides different types of loops statements as mentioned below:\n",
    "\n",
    "1. while loop: Repeats a statement(s) while a given condition is TRUE. The condition is checked before executing the loop statement(s).\n",
    "\n",
    "2. for loop: Repeats a statement(s) multiple times specified through a range of values."
   ]
  },
  {
   "cell_type": "code",
   "execution_count": 15,
   "id": "ae2ae617",
   "metadata": {},
   "outputs": [
    {
     "name": "stdout",
     "output_type": "stream",
     "text": [
      "1\n",
      "2\n",
      "3\n",
      "4\n",
      "5\n",
      "6\n",
      "7\n",
      "8\n",
      "9\n",
      "10\n"
     ]
    }
   ],
   "source": [
    "n = 0\n",
    "while n < 10:\n",
    "    n = n + 1\n",
    "    print (n)"
   ]
  },
  {
   "cell_type": "code",
   "execution_count": 10,
   "id": "c645a3df",
   "metadata": {},
   "outputs": [
    {
     "name": "stdout",
     "output_type": "stream",
     "text": [
      "10\n",
      "10\n",
      "10\n",
      "10\n",
      "10\n",
      "10\n",
      "10\n",
      "10\n",
      "10\n",
      "10\n"
     ]
    }
   ],
   "source": [
    "n = 10\n",
    "for i in range(n):\n",
    "    print (n)"
   ]
  },
  {
   "cell_type": "markdown",
   "id": "bba7fa63",
   "metadata": {},
   "source": [
    "### h. Functions\n",
    "A function is a block of reusable code that is used to perform a job. For example, you can write a function to calculate the dividend yield or area of a square. Functions help to break your code into smaller parts. Python provides you many built-in functions such as ‘print statement’, and you can also create your own functions which are called <b>user-defined</b> functions."
   ]
  },
  {
   "cell_type": "markdown",
   "id": "12666a95",
   "metadata": {},
   "source": [
    "To define functions in Python, follow the principles given below:\n",
    "- Function blocks start with the def keyword followed by the function name and round brackets '( )'\n",
    "- Input parameters must be placed in these round brackets\n",
    "- The block of code in the function is indented and is preceded by a colon (:)\n",
    "\n",
    "\n",
    "    def function_name(input_parameters):\n",
    "\n",
    "        Statement(s)\n",
    "\n",
    "        return [expression or variable]"
   ]
  },
  {
   "cell_type": "markdown",
   "id": "84078241",
   "metadata": {},
   "source": [
    "The below function takes a string as input and prints it as output:"
   ]
  },
  {
   "cell_type": "code",
   "execution_count": 11,
   "id": "63c96522",
   "metadata": {},
   "outputs": [
    {
     "name": "stdout",
     "output_type": "stream",
     "text": [
      "AAPL\n"
     ]
    }
   ],
   "source": [
    "def print_me(stock_name):\n",
    "# This function prints the input parameter stock_name\n",
    "    print (stock_name)\n",
    "\n",
    "# Call the function print_me with \"APPL\" as parameter\n",
    "print_me(\"AAPL\")"
   ]
  },
  {
   "cell_type": "markdown",
   "id": "9bb91dfd",
   "metadata": {},
   "source": [
    "## 3. Resources\n",
    "As you begin your journey of learning Python programming, we would recommend you to extensively use freely available resources online to understand simple syntax and application of available Python libraries. You can use the following resources in addition to others available online:\n",
    "1. http://docs.python.org/reference/introduction.html\n",
    "Reference manual\n",
    "2. http://wiki.python.org/moin/BeginnersGuide\n",
    "A guide for writing and running Python programs"
   ]
  }
 ],
 "metadata": {
  "anaconda-cloud": {},
  "kernelspec": {
   "display_name": "Python 3 (ipykernel)",
   "language": "python",
   "name": "python3"
  },
  "language_info": {
   "codemirror_mode": {
    "name": "ipython",
    "version": 3
   },
   "file_extension": ".py",
   "mimetype": "text/x-python",
   "name": "python",
   "nbconvert_exporter": "python",
   "pygments_lexer": "ipython3",
   "version": "3.9.5"
  }
 },
 "nbformat": 4,
 "nbformat_minor": 5
}
