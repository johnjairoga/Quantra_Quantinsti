{
 "cells": [
  {
   "cell_type": "markdown",
   "metadata": {},
   "source": [
    "# Notebook Instructions\n",
    "\n",
    "1. If you are new to Jupyter notebooks, please go through this introductory manual <a href='https://quantra.quantinsti.com/quantra-notebook' target=\"_blank\">here</a>.\n",
    "1. Any changes made in this notebook would be lost after you close the browser window. **You can download the notebook to save your work on your PC.**\n",
    "1. Before running this notebook on your local PC:<br>\n",
    "i.  You need to set up a Python environment and the relevant packages on your local PC. To do so, go through the section on \"**Run Codes Locally on Your Machine**\" in the course.<br>\n",
    "ii. You need to **download the zip file available in the last unit** of this course. The zip file contains the data files and/or python modules that might be required to run this notebook."
   ]
  },
  {
   "cell_type": "markdown",
   "metadata": {},
   "source": [
    "## Technical Indicators Based Momentum Strategy\n",
    "\n",
    "In this notebook, you will learn to create a trend following strategy using Parabolic SAR and Stochastic Oscillator indicators.\n",
    "\n",
    "Parabolic SAR also known as parabolic stop and reverse is used to determine the price direction of a security. It is displayed as a single parabolic line underneath the price bars in an uptrend, and above the price bars in a downtrend.\n",
    "\n",
    "Stochastic Oscillator measures the security's close price relative to its high-low range over a period of time.\n",
    "\n",
    "In this notebook, you will perform the following steps:\n",
    "\n",
    "1. [Import the necessary libraries](#import)\n",
    "2. [Read the data](#data)\n",
    "3. [Calculate parabolic SAR](#SAR)\n",
    "4. [Calculate stochastic oscillator](#stochastic)\n",
    "4. [Generate trading signals](#signals)\n",
    "5. [Calculate strategy returns](#strategy_returns)\n",
    "6. [Slippage modelling](#slippage)\n",
    "7. [Strategy returns with slippage and transaction cost](#tc)\n",
    "8. [Improve the strategy](#improve)"
   ]
  },
  {
   "cell_type": "markdown",
   "metadata": {},
   "source": [
    "<a id='import'></a> \n",
    "## Import the necessary libraries"
   ]
  },
  {
   "cell_type": "code",
   "execution_count": 3,
   "metadata": {},
   "outputs": [],
   "source": [
    "# Data analysis and manipulation\n",
    "import pandas as pd\n",
    "import numpy as np\n",
    "import quandl\n",
    "import quandl.api_config\n",
    "import quandl.get_table\n",
    "\n",
    "# Techinical indicators\n",
    "import talib as ta\n",
    "\n",
    "# Import matplotlib as an alias plt and set the style\n",
    "import matplotlib.pyplot as plt\n",
    "%matplotlib inline\n",
    "plt.style.use('seaborn-darkgrid')"
   ]
  },
  {
   "cell_type": "markdown",
   "metadata": {},
   "source": [
    "<a id='data'></a> \n",
    "## Read the data\n",
    "\n",
    "The OHLCV data for the stock is stored in the CSV file. To read a CSV file, you can use `read_csv` method of `pandas`."
   ]
  },
  {
   "cell_type": "code",
   "execution_count": 66,
   "metadata": {},
   "outputs": [
    {
     "data": {
      "text/html": [
       "<div>\n",
       "<style scoped>\n",
       "    .dataframe tbody tr th:only-of-type {\n",
       "        vertical-align: middle;\n",
       "    }\n",
       "\n",
       "    .dataframe tbody tr th {\n",
       "        vertical-align: top;\n",
       "    }\n",
       "\n",
       "    .dataframe thead th {\n",
       "        text-align: right;\n",
       "    }\n",
       "</style>\n",
       "<table border=\"1\" class=\"dataframe\">\n",
       "  <thead>\n",
       "    <tr style=\"text-align: right;\">\n",
       "      <th></th>\n",
       "      <th>High</th>\n",
       "      <th>Low</th>\n",
       "      <th>Mid</th>\n",
       "      <th>Last</th>\n",
       "      <th>Bid</th>\n",
       "      <th>Ask</th>\n",
       "      <th>Volume</th>\n",
       "    </tr>\n",
       "    <tr>\n",
       "      <th>Date</th>\n",
       "      <th></th>\n",
       "      <th></th>\n",
       "      <th></th>\n",
       "      <th></th>\n",
       "      <th></th>\n",
       "      <th></th>\n",
       "      <th></th>\n",
       "    </tr>\n",
       "  </thead>\n",
       "  <tbody>\n",
       "    <tr>\n",
       "      <th>2017-08-16</th>\n",
       "      <td>4380.0</td>\n",
       "      <td>3925.1</td>\n",
       "      <td>4324.85</td>\n",
       "      <td>4324.7</td>\n",
       "      <td>4324.7</td>\n",
       "      <td>4325.0</td>\n",
       "      <td>34444.214725</td>\n",
       "    </tr>\n",
       "    <tr>\n",
       "      <th>2017-08-17</th>\n",
       "      <td>4492.3</td>\n",
       "      <td>4152.0</td>\n",
       "      <td>4311.70</td>\n",
       "      <td>4315.2</td>\n",
       "      <td>4308.4</td>\n",
       "      <td>4315.0</td>\n",
       "      <td>41233.305594</td>\n",
       "    </tr>\n",
       "    <tr>\n",
       "      <th>2017-08-18</th>\n",
       "      <td>4360.0</td>\n",
       "      <td>3954.0</td>\n",
       "      <td>4105.50</td>\n",
       "      <td>4101.5</td>\n",
       "      <td>4103.0</td>\n",
       "      <td>4108.0</td>\n",
       "      <td>46468.292589</td>\n",
       "    </tr>\n",
       "    <tr>\n",
       "      <th>2017-08-19</th>\n",
       "      <td>4187.0</td>\n",
       "      <td>3907.0</td>\n",
       "      <td>4154.95</td>\n",
       "      <td>4154.5</td>\n",
       "      <td>4154.6</td>\n",
       "      <td>4155.3</td>\n",
       "      <td>41679.521237</td>\n",
       "    </tr>\n",
       "    <tr>\n",
       "      <th>2017-08-20</th>\n",
       "      <td>4199.9</td>\n",
       "      <td>4045.5</td>\n",
       "      <td>4139.95</td>\n",
       "      <td>4139.9</td>\n",
       "      <td>4139.9</td>\n",
       "      <td>4140.0</td>\n",
       "      <td>23204.374886</td>\n",
       "    </tr>\n",
       "  </tbody>\n",
       "</table>\n",
       "</div>"
      ],
      "text/plain": [
       "              High     Low      Mid    Last     Bid     Ask        Volume\n",
       "Date                                                                     \n",
       "2017-08-16  4380.0  3925.1  4324.85  4324.7  4324.7  4325.0  34444.214725\n",
       "2017-08-17  4492.3  4152.0  4311.70  4315.2  4308.4  4315.0  41233.305594\n",
       "2017-08-18  4360.0  3954.0  4105.50  4101.5  4103.0  4108.0  46468.292589\n",
       "2017-08-19  4187.0  3907.0  4154.95  4154.5  4154.6  4155.3  41679.521237\n",
       "2017-08-20  4199.9  4045.5  4139.95  4139.9  4139.9  4140.0  23204.374886"
      ]
     },
     "execution_count": 66,
     "metadata": {},
     "output_type": "execute_result"
    }
   ],
   "source": [
    "#quandl.ApiConfig.api_key='YOUR_API'\n",
    "stock_data = quandl.get(\"BITFINEX/BTCUSD\",authtoken=\"YOUR_API\", start_date=\"2017-08-16\", end_date=\"2022-11-03\", index_col=0)\n",
    "#stock_data = quandl.get_table('WIKI/PRICES', ticker = stocks, qopts ={'columns': ['Open','High','Low','Close','adj_close','Volume']},\n",
    "#date={'gte':'2020-1-1', 'lte':'2022-01-31'}, paginate=True)\n",
    "\n",
    "# Set the index to datetime\n",
    "stock_data.index = pd.to_datetime(stock_data.index)\n",
    "stock_data.head()"
   ]
  },
  {
   "cell_type": "markdown",
   "metadata": {},
   "source": [
    "<a id='SAR'></a> \n",
    "## Calculate parabolic SAR\n",
    "\n",
    "You will use the `SAR` function from TA-Lib to calculate the parabolic SAR. The input parameters are high price, low price, acceleration factor (AF), and maximum step. The default parameters are 0.02 for the acceleration factor and 0.2 for the maximum step. The Acceleration factor increases by 0.02 each time the extreme point makes a new high/low. AF can reach a maximum of 0.2, no matter how long the uptrend/downtrend extends."
   ]
  },
  {
   "cell_type": "code",
   "execution_count": 68,
   "metadata": {},
   "outputs": [],
   "source": [
    "stock_data['SAR'] = ta.SAR(stock_data['High'].values, stock_data['Low'].values,\n",
    "                           acceleration=0.02, maximum=0.2)"
   ]
  },
  {
   "cell_type": "markdown",
   "metadata": {},
   "source": []
  },
  {
   "cell_type": "markdown",
   "metadata": {},
   "source": [
    "<a id='stochastic'></a> \n",
    "## Calculate stochastic oscillator\n",
    "\n",
    "You will use the `STOCH` function from TA-Lib to calculate the slow and fast stochastic oscillator.<br>\n",
    "\n",
    "Fast Stochastic Oscillator\n",
    "\n",
    "Fast %K = (Current Close - Lowest Low) / (Highest High - Lowest Low) *100<br>\n",
    "Fast %D = 3-day Simple Moving Average (SMA) of %K<br>\n",
    "\n",
    "https://www.google.com/url?sa=i&url=https%3A%2F%2Fcommodity.com%2Ftechnical-analysis%2Fstochastics%2F&psig=AOvVaw2wG3JE69F535OeFF3K-YHa&ust=1670104910723000&source=images&cd=vfe&ved=0CBAQjRxqFwoTCIjAiJv42_sCFQAAAAAdAAAAABAD\n",
    "Slow Stochastic oscillator\n",
    "\n",
    "Slow %K = Fast %K smoothed with 3-period SMA<br>\n",
    "Slow %D = 3-period SMA of Slow %K<br>\n",
    "\n",
    "The input parameters are high, low and close prices with fastk period = 5, slowk period = 3, fastd_period = 3, and slowd period =3"
   ]
  },
  {
   "cell_type": "code",
   "execution_count": 69,
   "metadata": {},
   "outputs": [],
   "source": [
    "stock_data['slowk'], stock_data['slowd'] = ta.STOCH(stock_data['High'].values, stock_data['Low'].values,\n",
    "                                                    stock_data['Last'].values, fastk_period=5, slowk_period=3, slowd_period=3)\n",
    "\n",
    "\n",
    "stock_data['fastk'], stock_data['fastd'] = ta.STOCHF(stock_data['High'].values, stock_data['Low'].values,\n",
    "                                                     stock_data['Last'].values, fastk_period=5, fastd_period=3)"
   ]
  },
  {
   "cell_type": "markdown",
   "metadata": {},
   "source": [
    "<a id='signals'></a> \n",
    "## Generate trading signal \n",
    "\n",
    "Buy Signal: When the parabolic SAR line appears below the closing price and Fast %K crosses above Slow %D.\n",
    "\n",
    "Sell Signal: When the parabolic SAR line appears above the closing price and Fast %K crosses below Slow %D."
   ]
  },
  {
   "cell_type": "code",
   "execution_count": 70,
   "metadata": {},
   "outputs": [],
   "source": [
    "# Column to store trading signals\n",
    "stock_data['signal'] = np.nan\n",
    "\n",
    "\n",
    "# Buy signal\n",
    "stock_data.loc[(stock_data['SAR'] < stock_data['Last']) & (stock_data['fastk'] > stock_data['slowd']), 'signal'] = 1\n",
    "\n",
    "# Sell signal\n",
    "stock_data.loc[(stock_data['SAR'] > stock_data['Last']) & (stock_data['fastk'] < stock_data['slowd']), 'signal'] = -1\n",
    "\n",
    "# Fill the missing values with last valid observation\n",
    "stock_data = stock_data.fillna(method = 'ffill')"
   ]
  },
  {
   "cell_type": "markdown",
   "metadata": {},
   "source": [
    "<a id='strategy_returns'></a> \n",
    "## Calculate strategy returns\n",
    "\n",
    "First, calculate the stock returns. Stock returns are calculated by taking the percentage change of the closing price. \n",
    "\n",
    "Next, calculate strategy returns. It is calculated by multiplying stock returns with the previous day's signal, assuming that the corresponding execution happens at the close of the day."
   ]
  },
  {
   "cell_type": "code",
   "execution_count": 72,
   "metadata": {},
   "outputs": [],
   "source": [
    "# Calculate stock returns\n",
    "stock_data['stock_returns'] = stock_data['Last'].pct_change()\n",
    "\n",
    "# Calculate strategy returns\n",
    "stock_data['strategy_returns'] = (\n",
    "    stock_data['stock_returns'] * stock_data['signal'].shift(1))\n",
    "\n",
    "# Drop NaN values\n",
    "stock_data = stock_data.dropna()"
   ]
  },
  {
   "cell_type": "markdown",
   "metadata": {},
   "source": [
    "<a id='slippage'></a> \n",
    "## Slippage modelling\n",
    "\n",
    "Steps to model slippage:\n",
    "\n",
    "1. Read minute level data\n",
    "2. Extract last five minutes candles for each day\n",
    "3. Calculate slippage for buy and sell orders"
   ]
  },
  {
   "cell_type": "markdown",
   "metadata": {},
   "source": [
    "### Read minute level data "
   ]
  },
  {
   "cell_type": "code",
   "execution_count": 39,
   "metadata": {},
   "outputs": [
    {
     "name": "stdout",
     "output_type": "stream",
     "text": [
      "[*********************100%***********************]  1 of 1 completed\n"
     ]
    },
    {
     "data": {
      "text/html": [
       "<div>\n",
       "<style scoped>\n",
       "    .dataframe tbody tr th:only-of-type {\n",
       "        vertical-align: middle;\n",
       "    }\n",
       "\n",
       "    .dataframe tbody tr th {\n",
       "        vertical-align: top;\n",
       "    }\n",
       "\n",
       "    .dataframe thead th {\n",
       "        text-align: right;\n",
       "    }\n",
       "</style>\n",
       "<table border=\"1\" class=\"dataframe\">\n",
       "  <thead>\n",
       "    <tr style=\"text-align: right;\">\n",
       "      <th></th>\n",
       "      <th>Open</th>\n",
       "      <th>High</th>\n",
       "      <th>Low</th>\n",
       "      <th>Close</th>\n",
       "      <th>Volume</th>\n",
       "    </tr>\n",
       "    <tr>\n",
       "      <th>Date</th>\n",
       "      <th></th>\n",
       "      <th></th>\n",
       "      <th></th>\n",
       "      <th></th>\n",
       "      <th></th>\n",
       "    </tr>\n",
       "  </thead>\n",
       "  <tbody>\n",
       "    <tr>\n",
       "      <th>2020-12-31 00:00:00+00:00</th>\n",
       "      <td>28841.574219</td>\n",
       "      <td>29244.876953</td>\n",
       "      <td>28201.992188</td>\n",
       "      <td>29001.720703</td>\n",
       "      <td>46754964848</td>\n",
       "    </tr>\n",
       "    <tr>\n",
       "      <th>2021-01-01 00:00:00+00:00</th>\n",
       "      <td>28994.009766</td>\n",
       "      <td>29600.626953</td>\n",
       "      <td>28803.585938</td>\n",
       "      <td>29374.152344</td>\n",
       "      <td>40730301359</td>\n",
       "    </tr>\n",
       "    <tr>\n",
       "      <th>2021-01-02 00:00:00+00:00</th>\n",
       "      <td>29376.455078</td>\n",
       "      <td>33155.117188</td>\n",
       "      <td>29091.181641</td>\n",
       "      <td>32127.267578</td>\n",
       "      <td>67865420765</td>\n",
       "    </tr>\n",
       "    <tr>\n",
       "      <th>2021-01-03 00:00:00+00:00</th>\n",
       "      <td>32129.408203</td>\n",
       "      <td>34608.558594</td>\n",
       "      <td>32052.316406</td>\n",
       "      <td>32782.023438</td>\n",
       "      <td>78665235202</td>\n",
       "    </tr>\n",
       "    <tr>\n",
       "      <th>2021-01-04 00:00:00+00:00</th>\n",
       "      <td>32810.949219</td>\n",
       "      <td>33440.218750</td>\n",
       "      <td>28722.755859</td>\n",
       "      <td>31971.914062</td>\n",
       "      <td>81163475344</td>\n",
       "    </tr>\n",
       "  </tbody>\n",
       "</table>\n",
       "</div>"
      ],
      "text/plain": [
       "                                   Open          High           Low  \\\n",
       "Date                                                                  \n",
       "2020-12-31 00:00:00+00:00  28841.574219  29244.876953  28201.992188   \n",
       "2021-01-01 00:00:00+00:00  28994.009766  29600.626953  28803.585938   \n",
       "2021-01-02 00:00:00+00:00  29376.455078  33155.117188  29091.181641   \n",
       "2021-01-03 00:00:00+00:00  32129.408203  34608.558594  32052.316406   \n",
       "2021-01-04 00:00:00+00:00  32810.949219  33440.218750  28722.755859   \n",
       "\n",
       "                                  Close       Volume  \n",
       "Date                                                  \n",
       "2020-12-31 00:00:00+00:00  29001.720703  46754964848  \n",
       "2021-01-01 00:00:00+00:00  29374.152344  40730301359  \n",
       "2021-01-02 00:00:00+00:00  32127.267578  67865420765  \n",
       "2021-01-03 00:00:00+00:00  32782.023438  78665235202  \n",
       "2021-01-04 00:00:00+00:00  31971.914062  81163475344  "
      ]
     },
     "execution_count": 39,
     "metadata": {},
     "output_type": "execute_result"
    }
   ],
   "source": [
    "# The data is stored in the directory 'data'\n",
    "import yfinance as yf\n",
    "%matplotlib inline\n",
    "import matplotlib.pyplot as plt\n",
    "from scipy.signal import find_peaks\n",
    "\n",
    "ticker = 'BTC-USD' # BITCOIN\n",
    "start= '2020-12-31'\n",
    "end = None\n",
    "stock_data_1m = yf.download(tickers= ticker,start= start, end = end,interval = \"1d\",\n",
    "                 group_by = 'column',auto_adjust = True, prepost = True, \n",
    "                 treads = True, proxy = None)\n",
    "stock_data_1m.index = pd.to_datetime(stock_data_1m.index)\n",
    "\n",
    "stock_data_1m.head()"
   ]
  },
  {
   "cell_type": "markdown",
   "metadata": {},
   "source": [
    "### Extract last 5 minutes candles for each day\n",
    "\n",
    "As liquidity is high at the end of the trading day, you will use only the last five minutes candles to estimate slippage.\n",
    "\n",
    "To do that, you will use `groupby` method of pandas."
   ]
  },
  {
   "cell_type": "code",
   "execution_count": 8,
   "metadata": {
    "scrolled": true
   },
   "outputs": [
    {
     "data": {
      "text/html": [
       "<div>\n",
       "<style scoped>\n",
       "    .dataframe tbody tr th:only-of-type {\n",
       "        vertical-align: middle;\n",
       "    }\n",
       "\n",
       "    .dataframe tbody tr th {\n",
       "        vertical-align: top;\n",
       "    }\n",
       "\n",
       "    .dataframe thead th {\n",
       "        text-align: right;\n",
       "    }\n",
       "</style>\n",
       "<table border=\"1\" class=\"dataframe\">\n",
       "  <thead>\n",
       "    <tr style=\"text-align: right;\">\n",
       "      <th></th>\n",
       "      <th>Datetime</th>\n",
       "      <th>Open</th>\n",
       "      <th>High</th>\n",
       "      <th>Low</th>\n",
       "      <th>Close</th>\n",
       "    </tr>\n",
       "  </thead>\n",
       "  <tbody>\n",
       "    <tr>\n",
       "      <th>385</th>\n",
       "      <td>2020-12-14 15:55:00-05:00</td>\n",
       "      <td>122.050003</td>\n",
       "      <td>122.050003</td>\n",
       "      <td>121.974998</td>\n",
       "      <td>122.019997</td>\n",
       "    </tr>\n",
       "    <tr>\n",
       "      <th>386</th>\n",
       "      <td>2020-12-14 15:56:00-05:00</td>\n",
       "      <td>122.025002</td>\n",
       "      <td>122.029999</td>\n",
       "      <td>121.860001</td>\n",
       "      <td>121.879898</td>\n",
       "    </tr>\n",
       "    <tr>\n",
       "      <th>387</th>\n",
       "      <td>2020-12-14 15:57:00-05:00</td>\n",
       "      <td>121.875000</td>\n",
       "      <td>121.940002</td>\n",
       "      <td>121.809998</td>\n",
       "      <td>121.824799</td>\n",
       "    </tr>\n",
       "    <tr>\n",
       "      <th>388</th>\n",
       "      <td>2020-12-14 15:58:00-05:00</td>\n",
       "      <td>121.824997</td>\n",
       "      <td>122.019997</td>\n",
       "      <td>121.820000</td>\n",
       "      <td>122.002998</td>\n",
       "    </tr>\n",
       "    <tr>\n",
       "      <th>389</th>\n",
       "      <td>2020-12-14 15:59:00-05:00</td>\n",
       "      <td>122.010002</td>\n",
       "      <td>122.040001</td>\n",
       "      <td>121.540001</td>\n",
       "      <td>121.699997</td>\n",
       "    </tr>\n",
       "  </tbody>\n",
       "</table>\n",
       "</div>"
      ],
      "text/plain": [
       "                     Datetime        Open        High         Low       Close\n",
       "385 2020-12-14 15:55:00-05:00  122.050003  122.050003  121.974998  122.019997\n",
       "386 2020-12-14 15:56:00-05:00  122.025002  122.029999  121.860001  121.879898\n",
       "387 2020-12-14 15:57:00-05:00  121.875000  121.940002  121.809998  121.824799\n",
       "388 2020-12-14 15:58:00-05:00  121.824997  122.019997  121.820000  122.002998\n",
       "389 2020-12-14 15:59:00-05:00  122.010002  122.040001  121.540001  121.699997"
      ]
     },
     "execution_count": 8,
     "metadata": {},
     "output_type": "execute_result"
    }
   ],
   "source": [
    "# Reset the index\n",
    "stock_data_1m.reset_index(inplace=True)\n",
    "\n",
    "# Extract last 5 candles for each day\n",
    "stock_data_1m = stock_data_1m.groupby(\n",
    "    [stock_data_1m['Datetime'].dt.date]).tail(5)\n",
    "\n",
    "stock_data_1m.head()"
   ]
  },
  {
   "cell_type": "markdown",
   "metadata": {},
   "source": [
    "### Calculate slippage for buy and sell orders\n",
    "\n",
    "Buy order: worst execution price (high price) - last traded price (close price)\n",
    "\n",
    "Sell order: last traded price (close price) - worst execution price (low price)\n",
    "\n",
    "Note: In this strategy, orders are executed at the close price. Therefore, we will use slippage in terms of the percentage of closing prices."
   ]
  },
  {
   "cell_type": "code",
   "execution_count": 9,
   "metadata": {},
   "outputs": [
    {
     "data": {
      "text/html": [
       "<div>\n",
       "<style scoped>\n",
       "    .dataframe tbody tr th:only-of-type {\n",
       "        vertical-align: middle;\n",
       "    }\n",
       "\n",
       "    .dataframe tbody tr th {\n",
       "        vertical-align: top;\n",
       "    }\n",
       "\n",
       "    .dataframe thead th {\n",
       "        text-align: right;\n",
       "    }\n",
       "</style>\n",
       "<table border=\"1\" class=\"dataframe\">\n",
       "  <thead>\n",
       "    <tr style=\"text-align: right;\">\n",
       "      <th></th>\n",
       "      <th>Open</th>\n",
       "      <th>High</th>\n",
       "      <th>Low</th>\n",
       "      <th>Close</th>\n",
       "      <th>slippage_buy_order</th>\n",
       "      <th>slippage_sell_order</th>\n",
       "    </tr>\n",
       "    <tr>\n",
       "      <th>Datetime</th>\n",
       "      <th></th>\n",
       "      <th></th>\n",
       "      <th></th>\n",
       "      <th></th>\n",
       "      <th></th>\n",
       "      <th></th>\n",
       "    </tr>\n",
       "  </thead>\n",
       "  <tbody>\n",
       "    <tr>\n",
       "      <th>2020-12-14</th>\n",
       "      <td>121.957001</td>\n",
       "      <td>122.016000</td>\n",
       "      <td>121.800999</td>\n",
       "      <td>121.885538</td>\n",
       "      <td>0.001071</td>\n",
       "      <td>0.000694</td>\n",
       "    </tr>\n",
       "    <tr>\n",
       "      <th>2020-12-15</th>\n",
       "      <td>127.750999</td>\n",
       "      <td>127.810001</td>\n",
       "      <td>127.698001</td>\n",
       "      <td>127.772459</td>\n",
       "      <td>0.000294</td>\n",
       "      <td>0.000583</td>\n",
       "    </tr>\n",
       "    <tr>\n",
       "      <th>2020-12-16</th>\n",
       "      <td>127.881299</td>\n",
       "      <td>127.918001</td>\n",
       "      <td>127.798000</td>\n",
       "      <td>127.839999</td>\n",
       "      <td>0.000610</td>\n",
       "      <td>0.000328</td>\n",
       "    </tr>\n",
       "    <tr>\n",
       "      <th>2020-12-17</th>\n",
       "      <td>128.719000</td>\n",
       "      <td>128.758002</td>\n",
       "      <td>128.653000</td>\n",
       "      <td>128.688937</td>\n",
       "      <td>0.000537</td>\n",
       "      <td>0.000279</td>\n",
       "    </tr>\n",
       "    <tr>\n",
       "      <th>2020-12-18</th>\n",
       "      <td>126.625000</td>\n",
       "      <td>126.795999</td>\n",
       "      <td>126.560001</td>\n",
       "      <td>126.684999</td>\n",
       "      <td>0.000876</td>\n",
       "      <td>0.000987</td>\n",
       "    </tr>\n",
       "    <tr>\n",
       "      <th>2020-12-21</th>\n",
       "      <td>127.884361</td>\n",
       "      <td>128.025998</td>\n",
       "      <td>127.807999</td>\n",
       "      <td>128.002002</td>\n",
       "      <td>0.000187</td>\n",
       "      <td>0.001515</td>\n",
       "    </tr>\n",
       "    <tr>\n",
       "      <th>2020-12-22</th>\n",
       "      <td>131.300339</td>\n",
       "      <td>131.337001</td>\n",
       "      <td>130.907003</td>\n",
       "      <td>130.960337</td>\n",
       "      <td>0.002878</td>\n",
       "      <td>0.000408</td>\n",
       "    </tr>\n",
       "  </tbody>\n",
       "</table>\n",
       "</div>"
      ],
      "text/plain": [
       "                  Open        High         Low       Close  \\\n",
       "Datetime                                                     \n",
       "2020-12-14  121.957001  122.016000  121.800999  121.885538   \n",
       "2020-12-15  127.750999  127.810001  127.698001  127.772459   \n",
       "2020-12-16  127.881299  127.918001  127.798000  127.839999   \n",
       "2020-12-17  128.719000  128.758002  128.653000  128.688937   \n",
       "2020-12-18  126.625000  126.795999  126.560001  126.684999   \n",
       "2020-12-21  127.884361  128.025998  127.807999  128.002002   \n",
       "2020-12-22  131.300339  131.337001  130.907003  130.960337   \n",
       "\n",
       "            slippage_buy_order  slippage_sell_order  \n",
       "Datetime                                             \n",
       "2020-12-14            0.001071             0.000694  \n",
       "2020-12-15            0.000294             0.000583  \n",
       "2020-12-16            0.000610             0.000328  \n",
       "2020-12-17            0.000537             0.000279  \n",
       "2020-12-18            0.000876             0.000987  \n",
       "2020-12-21            0.000187             0.001515  \n",
       "2020-12-22            0.002878             0.000408  "
      ]
     },
     "execution_count": 9,
     "metadata": {},
     "output_type": "execute_result"
    }
   ],
   "source": [
    "# Calculate slippage for buy orders\n",
    "stock_data_1m['slippage_buy_order'] = (\n",
    "    stock_data_1m['High'] - stock_data_1m['Close']) / stock_data_1m['Close']\n",
    "\n",
    "# Calculate slippage for sell orders\n",
    "stock_data_1m['slippage_sell_order'] = (\n",
    "    stock_data_1m['Close'] - stock_data_1m['Low']) / stock_data_1m['Close']\n",
    "\n",
    "# Mean of the slippage for buy and sell orders for each day\n",
    "stock_data_1m = stock_data_1m.groupby(\n",
    "    [stock_data_1m['Datetime'].dt.date]).mean()\n",
    "\n",
    "stock_data_1m"
   ]
  },
  {
   "cell_type": "code",
   "execution_count": 10,
   "metadata": {},
   "outputs": [
    {
     "name": "stdout",
     "output_type": "stream",
     "text": [
      "Estimated slippage: 0.0022\n"
     ]
    }
   ],
   "source": [
    "# Maximum slippage for the buy and sell orders\n",
    "slippage_cost = stock_data_1m[[\n",
    "    'slippage_buy_order', 'slippage_sell_order']].max()\n",
    "slippage_cost = slippage_cost.mean()\n",
    "\n",
    "print('Estimated slippage: %.4f' % slippage_cost)"
   ]
  },
  {
   "cell_type": "markdown",
   "metadata": {},
   "source": [
    "<a id='tc'></a> \n",
    "## Strategy returns with transaction cost and slippage\n",
    "\n",
    "Estimate your trading cost and slippage. We have taken the transaction cost of 0.001 per dollar worth of shares purchased or sold. Feel free to change the transaction cost to a value that suits your local markets and broker. Add the estimated transaction and slippage cost. \n",
    "\n",
    "Next, determine if there is a change in the position. This can be done by subtracting the trading signal of the current day with that of the previous day. \n",
    "\n",
    "Then multiply the change in the position with the total cost and then deduct from daily strategy returns."
   ]
  },
  {
   "cell_type": "code",
   "execution_count": 73,
   "metadata": {},
   "outputs": [],
   "source": [
    "# Calculate total cost\n",
    "transaction_cost = 0.001\n",
    "slippage_cost1= 0.0022\n",
    "total_cost = transaction_cost + slippage_cost1\n",
    "\n",
    "# Calculate the trading cost when you square off the position\n",
    "trading_cost = (total_cost * np.abs(stock_data.signal -\n",
    "                                    stock_data.signal.shift(1)))\n",
    "\n",
    "# Calculate net strategy returns\n",
    "stock_data['strategy_returns_minus_cost'] = stock_data['strategy_returns'] - trading_cost"
   ]
  },
  {
   "cell_type": "markdown",
   "metadata": {},
   "source": [
    "<a id='cum_returns'></a> \n",
    "### Plot cumulative strategy returns\n",
    "\n",
    "You will plot the cumulative strategy returns using the Matplotlib library."
   ]
  },
  {
   "cell_type": "code",
   "execution_count": 74,
   "metadata": {},
   "outputs": [
    {
     "data": {
      "image/png": "[encoded data removed]",
      "text/plain": [
       "<Figure size 720x504 with 1 Axes>"
      ]
     },
     "metadata": {
      "needs_background": "light"
     },
     "output_type": "display_data"
    }
   ],
   "source": [
    "# Calculate and plot cumulative strategy returns\n",
    "cum_strategy_returns = (stock_data['strategy_returns_minus_cost']+1).cumprod()\n",
    "cum_strategy_returns.plot(figsize=(10, 7))\n",
    "\n",
    "plt.title('Long Short Strategy Returns - BTCUSD', fontsize=14)\n",
    "plt.xlabel('Date', fontsize=12)\n",
    "plt.ylabel('Strategy Returns', fontsize=12)\n",
    "plt.show()"
   ]
  },
  {
   "cell_type": "markdown",
   "metadata": {},
   "source": [
    "As you can see, the strategy doesn't perform very well. Let's see how we can improve this strategy."
   ]
  },
  {
   "cell_type": "markdown",
   "metadata": {},
   "source": [
    "---\n",
    "\n",
    "\n"
   ]
  },
  {
   "cell_type": "markdown",
   "metadata": {},
   "source": [
    "<a id='improve'></a> \n",
    "## Improve the strategy\n",
    "\n",
    "In the above strategy, you generate both buy and sell signal when the criterion satisfies. \n",
    "\n",
    "Here you will generate only buy signal when the buy condition satisfies and exit the position when the sell condition meets. "
   ]
  },
  {
   "cell_type": "code",
   "execution_count": 76,
   "metadata": {},
   "outputs": [],
   "source": [
    "# Column to store new trading signals\n",
    "stock_data['new_signal'] = np.nan\n",
    "\n",
    "\n",
    "# Buy signal\n",
    "stock_data.loc[(stock_data['SAR'] < stock_data['Last']) & (stock_data['fastk'] > stock_data['slowd']), 'new_signal'] = 1\n",
    "\n",
    "# Exit signal\n",
    "stock_data.loc[(stock_data['SAR'] > stock_data['Last']) & (stock_data['fastk'] < stock_data['slowd']), 'new_signal'] = 0\n",
    "\n",
    "# Fill the missing values with last valid observation\n",
    "stock_data = stock_data.fillna(method = 'ffill')"
   ]
  },
  {
   "cell_type": "code",
   "execution_count": 77,
   "metadata": {},
   "outputs": [],
   "source": [
    "# Calculate strategy returns\n",
    "stock_data['new_strategy_returns'] = (\n",
    "    stock_data['stock_returns'] * stock_data['new_signal'].shift(1))\n",
    "\n",
    "# Calculate net strategy returns\n",
    "stock_data['new_strategy_returns_minus_cost'] = stock_data['new_strategy_returns'] - trading_cost\n",
    "\n",
    "# Drop NaN values\n",
    "stock_data = stock_data.dropna()"
   ]
  },
  {
   "cell_type": "code",
   "execution_count": 78,
   "metadata": {},
   "outputs": [
    {
     "data": {
      "image/png": "[encoded data removed]",
      "text/plain": [
       "<Figure size 720x504 with 1 Axes>"
      ]
     },
     "metadata": {
      "needs_background": "light"
     },
     "output_type": "display_data"
    }
   ],
   "source": [
    "# Calculate and plot cumulative strategy returns\n",
    "cum_strategy_returns = (stock_data['new_strategy_returns_minus_cost']+1).cumprod()\n",
    "cum_strategy_returns.plot(figsize=(10, 7))\n",
    "\n",
    "plt.title('Long Only Strategy Returns - BTCUSD', fontsize=14)\n",
    "plt.xlabel('Date', fontsize=12)\n",
    "plt.ylabel('Strategy Returns', fontsize=12)\n",
    "plt.show()"
   ]
  },
  {
   "cell_type": "markdown",
   "metadata": {},
   "source": [
    "As you can see, the long only strategy performs better than the long short strategy.\n",
    "\n",
    "In the upcoming units, you will practice these codes through interactive exercises.<br><br>"
   ]
  }
 ],
 "metadata": {
  "kernelspec": {
   "display_name": "Python 3.10.4 64-bit",
   "language": "python",
   "name": "python3"
  },
  "language_info": {
   "codemirror_mode": {
    "name": "ipython",
    "version": 3
   },
   "file_extension": ".py",
   "mimetype": "text/x-python",
   "name": "python",
   "nbconvert_exporter": "python",
   "pygments_lexer": "ipython3",
   "version": "3.10.4"
  },
  "vscode": {
   "interpreter": {
    "hash": "5159781d4911915b18c0fbe8a046748af728f2e0f1da92475ba775542874e153"
   }
  }
 },
 "nbformat": 4,
 "nbformat_minor": 2
}
