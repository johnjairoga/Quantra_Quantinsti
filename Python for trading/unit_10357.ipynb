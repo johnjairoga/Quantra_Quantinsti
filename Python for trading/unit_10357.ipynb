{
 "cells": [
  {
   "cell_type": "markdown",
   "id": "f1178c71-8e3a-45a0-8fac-4469c8789939",
   "metadata": {},
   "source": [
    "# Notebook Instructions\n",
    "\n",
    "1. If you are new to Jupyter notebooks, please go through this introductory manual <a href='https://quantra.quantinsti.com/quantra-notebook' target=\"_blank\">here</a>.\n",
    "1. Any changes made in this notebook would be lost after you close the browser window. **You can download the notebook to save your work on your PC.**\n",
    "1. Before running this notebook on your local PC:<br>\n",
    "i.  You need to set up a Python environment and the relevant packages on your local PC. To do so, go through the section on \"**Run Codes Locally on Your Machine**\" in the course.<br>\n",
    "ii. You need to **download the zip file available in the last unit** of this course. The zip file contains the data files and/or python modules that might be required to run this notebook."
   ]
  },
  {
   "cell_type": "markdown",
   "id": "67ae3430",
   "metadata": {
    "id": "Ip6Og6CSHZda"
   },
   "source": [
    "## Defining a Function\n",
    "The following function <b>ex_loop()</b> prints the elements in a list by iterating through it, using <b>for</b> loop."
   ]
  },
  {
   "cell_type": "code",
   "execution_count": 14,
   "id": "b9980378",
   "metadata": {
    "id": "W2S5zjByHZdb",
    "outputId": "348f9862-71f4-4f88-a6ee-7a451fcf9e86"
   },
   "outputs": [
    {
     "name": "stdout",
     "output_type": "stream",
     "text": [
      "1\n",
      "Gold\n",
      "Silver\n"
     ]
    }
   ],
   "source": [
    "def ex_loop():\n",
    "    # The loop starts with an indentation\n",
    "    for i in [1, 'Gold', 'Silver']:\n",
    "        # The statement in the loop starts with an indentation\n",
    "        print (i)\n",
    "\n",
    "# Calling the function\n",
    "ex_loop()"
   ]
  },
  {
   "cell_type": "markdown",
   "id": "2d086d27",
   "metadata": {
    "id": "PV022R8RHZdc"
   },
   "source": [
    "### Calculating the Bid-ask Spread\n",
    "The following function <b>calc_spread()</b> calculates the bid-ask spread, by taking the bid and the ask prices as inputs."
   ]
  },
  {
   "cell_type": "code",
   "execution_count": 15,
   "id": "2defceef",
   "metadata": {
    "id": "QnamyOK5HZdc"
   },
   "outputs": [],
   "source": [
    "def calc_spread(bid, ask): # Function takes bid and ask prices as input arguments\n",
    "    spd = ask - bid\n",
    "    return spd             # Function returns the variable spd, which stores the bid ask spread"
   ]
  },
  {
   "cell_type": "markdown",
   "id": "753b2a30",
   "metadata": {
    "id": "5uUNtrg5HZdc"
   },
   "source": [
    "### Calculating the Mid-price\n",
    "The following function calculates the mid-price, which is the average of the bid and the ask prices."
   ]
  },
  {
   "cell_type": "code",
   "execution_count": 16,
   "id": "6020f8ce",
   "metadata": {
    "id": "LuDQIz2gHZdd"
   },
   "outputs": [],
   "source": [
    "def calc_midPrice(bid, ask):\n",
    "    mid_price = (bid + ask)/2\n",
    "    return mid_price"
   ]
  },
  {
   "cell_type": "markdown",
   "id": "983222cb",
   "metadata": {
    "id": "xD4nbD3jHZdd"
   },
   "source": [
    "### Printing the Bid-ask Spread and Mid-price\n",
    "We will now define a function, which prints the bid-ask spread and the mid-price, by taking bid and ask prices as input arguments."
   ]
  },
  {
   "cell_type": "code",
   "execution_count": 17,
   "id": "5e3c3dc5",
   "metadata": {
    "id": "wHlzmdP1HZdd"
   },
   "outputs": [],
   "source": [
    "def print_all(bid, ask):\n",
    "    s = calc_spread(bid, ask)\n",
    "    p = calc_midPrice(bid, ask)\n",
    "    for i in [s,p]:\n",
    "        print (i)"
   ]
  },
  {
   "cell_type": "markdown",
   "id": "aa673c50",
   "metadata": {
    "id": "32cclx5MHZde"
   },
   "source": [
    "Now that we have defined all the functions, we will call the print_all() function by passing the bid and ask prices as the arguments. The print_all() function would then call the other two functions in order to calculate the bid-ask spread and the mid-price."
   ]
  },
  {
   "cell_type": "code",
   "execution_count": 18,
   "id": "e805108f",
   "metadata": {
    "id": "XVVpnC-2HZde",
    "outputId": "e84a81f7-7740-4c88-d25b-87c08e729124"
   },
   "outputs": [
    {
     "name": "stdout",
     "output_type": "stream",
     "text": [
      "5.11999999999999\n",
      "112.68\n"
     ]
    }
   ],
   "source": [
    "print_all(110.12, 115.24)"
   ]
  },
  {
   "cell_type": "markdown",
   "id": "f3a6609d",
   "metadata": {
    "id": "p2f6qM-8HZde"
   },
   "source": [
    "### Computing Transaction Charges and PnL\n",
    "\n",
    "Creating a program using different functions to compute the PnL of trade, after considering the transaction charges and taxes, by providing the buying and selling prices of a trade.\n",
    "\n",
    "Assumptions:\n",
    "- Transaction charges to be 2% of the buying price.\n",
    "- 15% of taxes on profits."
   ]
  },
  {
   "cell_type": "markdown",
   "id": "1bd3583e",
   "metadata": {
    "collapsed": true,
    "id": "oxoWnRNqHZdf"
   },
   "source": [
    "#### Computing PnL before Transaction Charges and Taxes"
   ]
  },
  {
   "cell_type": "code",
   "execution_count": 19,
   "id": "d13f7cbf",
   "metadata": {
    "id": "Ae4ZhGGrHZdf"
   },
   "outputs": [],
   "source": [
    "def absoulte_PNL(buy_price, sell_price):\n",
    "    PNL = sell_price - buy_price\n",
    "    return PNL"
   ]
  },
  {
   "cell_type": "markdown",
   "id": "9ef67f04",
   "metadata": {
    "id": "DVWWlJ4hHZdf"
   },
   "source": [
    "#### Computing Transaction Charges"
   ]
  },
  {
   "cell_type": "code",
   "execution_count": 20,
   "id": "831fac10",
   "metadata": {
    "id": "RSR33y7dHZdf"
   },
   "outputs": [],
   "source": [
    "def transaction_charges(buy_price):\n",
    "    trans_charges = buy_price*0.02\n",
    "    return trans_charges"
   ]
  },
  {
   "cell_type": "markdown",
   "id": "37011317",
   "metadata": {
    "id": "nLi2fDoYHZdg"
   },
   "source": [
    "#### Computing Taxes"
   ]
  },
  {
   "cell_type": "code",
   "execution_count": 21,
   "id": "e4bba68b",
   "metadata": {
    "id": "q_NCHJJdHZdg"
   },
   "outputs": [],
   "source": [
    "def taxes(buy_price, sell_price):\n",
    "    profit = sell_price - buy_price\n",
    "    if profit>0:\n",
    "        tax = 0.15*profit\n",
    "    else:\n",
    "        tax = 0\n",
    "    return tax"
   ]
  },
  {
   "cell_type": "markdown",
   "id": "7e99787e",
   "metadata": {
    "collapsed": true,
    "id": "du7m91QEHZdh"
   },
   "source": [
    "#### Printing the PNL after Transaction Charges and Taxes"
   ]
  },
  {
   "cell_type": "code",
   "execution_count": 22,
   "id": "089c9404",
   "metadata": {
    "id": "KkGcuhgMHZdh",
    "outputId": "46830a1e-c8f4-4855-fd85-a4bd5c982ce8"
   },
   "outputs": [
    {
     "name": "stdout",
     "output_type": "stream",
     "text": [
      "40.5\n"
     ]
    }
   ],
   "source": [
    "buy_price = 100\n",
    "sell_price = 150\n",
    "PNL = absoulte_PNL(buy_price, sell_price) - transaction_charges(buy_price) - taxes(buy_price, sell_price)\n",
    "print (PNL)"
   ]
  },
  {
   "cell_type": "code",
   "execution_count": 23,
   "id": "619f4190",
   "metadata": {},
   "outputs": [
    {
     "data": {
      "text/plain": [
       "list"
      ]
     },
     "execution_count": 23,
     "metadata": {},
     "output_type": "execute_result"
    }
   ],
   "source": [
    "x=[1,2,'abc',10.1]\n",
    "type(x) #Let's change the values"
   ]
  },
  {
   "cell_type": "code",
   "execution_count": 24,
   "id": "04eb6c2d",
   "metadata": {},
   "outputs": [
    {
     "data": {
      "text/plain": [
       "tuple"
      ]
     },
     "execution_count": 24,
     "metadata": {},
     "output_type": "execute_result"
    }
   ],
   "source": [
    "x=(1,2,3,4,5)\n",
    "type(x) #Básicamente un objeto mutable se puede modificar una vez creado mientras que uno que no lo es no. Así el contenido de las listas se puede modificar durante la ejecución del programa mientras para las tuplas no es posible alterar su contenido"
   ]
  },
  {
   "cell_type": "code",
   "execution_count": 25,
   "id": "dc1fc82c",
   "metadata": {},
   "outputs": [
    {
     "ename": "TypeError",
     "evalue": "'tuple' object does not support item assignment",
     "output_type": "error",
     "traceback": [
      "\u001b[1;31m---------------------------------------------------------------------------\u001b[0m",
      "\u001b[1;31mTypeError\u001b[0m                                 Traceback (most recent call last)",
      "\u001b[1;32mc:\\Users\\John Jairo PC\\Desktop\\John Jairo\\Mega\\MEGAsync\\Bicapital\\Codigo\\Quantra Quantinsti\\Python for trading\\unit_10357.ipynb Cell 23\u001b[0m in \u001b[0;36m<module>\u001b[1;34m\u001b[0m\n\u001b[1;32m----> <a href='vscode-notebook-cell:/c%3A/Users/John%20Jairo%20PC/Desktop/John%20Jairo/Mega/MEGAsync/Bicapital/Codigo/Quantra%20Quantinsti/Python%20for%20trading/unit_10357.ipynb#X34sZmlsZQ%3D%3D?line=0'>1</a>\u001b[0m x[\u001b[39m3\u001b[39m]\u001b[39m=\u001b[39m\u001b[39m30\u001b[39m\n",
      "\u001b[1;31mTypeError\u001b[0m: 'tuple' object does not support item assignment"
     ]
    }
   ],
   "source": [
    "x[3]=30"
   ]
  },
  {
   "cell_type": "code",
   "execution_count": 26,
   "id": "ad5674b9",
   "metadata": {},
   "outputs": [
    {
     "data": {
      "text/plain": [
       "(1, 2, 3, 4, 5)"
      ]
     },
     "execution_count": 26,
     "metadata": {},
     "output_type": "execute_result"
    }
   ],
   "source": [
    "x"
   ]
  },
  {
   "cell_type": "markdown",
   "id": "cda49086",
   "metadata": {
    "id": "zZ9BZ9ZiHZdi"
   },
   "source": [
    "You may try tweaking these functions and see how it changes the outputs.\n",
    "\n",
    "In the next unit, you will be coding a simple function for printing numbers.<br><br>"
   ]
  }
 ],
 "metadata": {
  "anaconda-cloud": {},
  "colab": {
   "collapsed_sections": [],
   "name": "Functions.ipynb",
   "provenance": []
  },
  "kernelspec": {
   "display_name": "Python 3.10.4 64-bit",
   "language": "python",
   "name": "python3"
  },
  "language_info": {
   "codemirror_mode": {
    "name": "ipython",
    "version": 3
   },
   "file_extension": ".py",
   "mimetype": "text/x-python",
   "name": "python",
   "nbconvert_exporter": "python",
   "pygments_lexer": "ipython3",
   "version": "3.10.4"
  },
  "vscode": {
   "interpreter": {
    "hash": "5159781d4911915b18c0fbe8a046748af728f2e0f1da92475ba775542874e153"
   }
  }
 },
 "nbformat": 4,
 "nbformat_minor": 5
}
