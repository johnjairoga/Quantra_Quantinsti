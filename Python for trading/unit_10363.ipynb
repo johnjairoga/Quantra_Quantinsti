{
 "cells": [
  {
   "cell_type": "markdown",
   "id": "f1178c71-8e3a-45a0-8fac-4469c8789939",
   "metadata": {},
   "source": [
    "# Notebook Instructions\n",
    "\n",
    "1. If you are new to Jupyter notebooks, please go through this introductory manual <a href='https://quantra.quantinsti.com/quantra-notebook' target=\"_blank\">here</a>.\n",
    "1. Any changes made in this notebook would be lost after you close the browser window. **You can download the notebook to save your work on your PC.**\n",
    "1. Before running this notebook on your local PC:<br>\n",
    "i.  You need to set up a Python environment and the relevant packages on your local PC. To do so, go through the section on \"**Run Codes Locally on Your Machine**\" in the course.<br>\n",
    "ii. You need to **download the zip file available in the last unit** of this course. The zip file contains the data files and/or python modules that might be required to run this notebook."
   ]
  },
  {
   "cell_type": "markdown",
   "id": "4a3b849c",
   "metadata": {},
   "source": [
    "## Objects\n",
    "Objects are Python's abstraction for data. All data in a Python program is represented by objects or relations between objects.\n"
   ]
  },
  {
   "cell_type": "markdown",
   "id": "2776dca5",
   "metadata": {},
   "source": [
    "### 1. ID of an object\n",
    "The keyword id() specifies the object's address in memory. Look at the code below for seeing the addresses of different objects.\n"
   ]
  },
  {
   "cell_type": "code",
   "execution_count": 1,
   "id": "8b3c7df5",
   "metadata": {},
   "outputs": [],
   "source": [
    "a = 1\n",
    "b = 3.14\n",
    "c = 'Hi'\n",
    "d = [1, 2, 3, 4]"
   ]
  },
  {
   "cell_type": "markdown",
   "id": "f51a2147",
   "metadata": {},
   "source": [
    "You may change the variable name inside the function id() to print the ids of the other variables."
   ]
  },
  {
   "cell_type": "code",
   "execution_count": 2,
   "id": "f1c69be4",
   "metadata": {},
   "outputs": [
    {
     "data": {
      "text/plain": [
       "2143109605680"
      ]
     },
     "execution_count": 2,
     "metadata": {},
     "output_type": "execute_result"
    }
   ],
   "source": [
    "id(a)"
   ]
  },
  {
   "cell_type": "markdown",
   "id": "e5b3c16f",
   "metadata": {},
   "source": [
    "### 2. Type of an Object\n",
    "The type of an object cannot change. It specifies two things, the operations that are allowed and the set of values that the object can hold. The keyword type() is used to check the type of an object."
   ]
  },
  {
   "cell_type": "markdown",
   "id": "b83de27f",
   "metadata": {},
   "source": [
    "You may change the variable name to see the type of different objects."
   ]
  },
  {
   "cell_type": "code",
   "execution_count": 3,
   "id": "fd3081e5",
   "metadata": {},
   "outputs": [
    {
     "data": {
      "text/plain": [
       "int"
      ]
     },
     "execution_count": 3,
     "metadata": {},
     "output_type": "execute_result"
    }
   ],
   "source": [
    "type(a)"
   ]
  },
  {
   "cell_type": "markdown",
   "id": "d10279e6",
   "metadata": {},
   "source": [
    "### 3. Value of an Object\n",
    "The value of an object is the value that is stored inside the object. You can see the value of the object by directly printing the object name as shown below. You may try this for the different variables that we have defined earlier."
   ]
  },
  {
   "cell_type": "code",
   "execution_count": 4,
   "id": "d9472c83",
   "metadata": {},
   "outputs": [
    {
     "name": "stdout",
     "output_type": "stream",
     "text": [
      "1\n"
     ]
    }
   ],
   "source": [
    "print (a)"
   ]
  },
  {
   "cell_type": "markdown",
   "id": "00b0d60b",
   "metadata": {},
   "source": [
    "In the next unit, you will learn about <b> Containers, Namespaces, and Classes</b>.<br><br>"
   ]
  }
 ],
 "metadata": {
  "anaconda-cloud": {},
  "kernelspec": {
   "display_name": "Python 3 (ipykernel)",
   "language": "python",
   "name": "python3"
  },
  "language_info": {
   "codemirror_mode": {
    "name": "ipython",
    "version": 3
   },
   "file_extension": ".py",
   "mimetype": "text/x-python",
   "name": "python",
   "nbconvert_exporter": "python",
   "pygments_lexer": "ipython3",
   "version": "3.9.5"
  }
 },
 "nbformat": 4,
 "nbformat_minor": 5
}
