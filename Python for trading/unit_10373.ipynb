{
 "cells": [
  {
   "cell_type": "markdown",
   "id": "f1178c71-8e3a-45a0-8fac-4469c8789939",
   "metadata": {},
   "source": [
    "# Notebook Instructions\n",
    "\n",
    "1. If you are new to Jupyter notebooks, please go through this introductory manual <a href='https://quantra.quantinsti.com/quantra-notebook' target=\"_blank\">here</a>.\n",
    "1. Any changes made in this notebook would be lost after you close the browser window. **You can download the notebook to save your work on your PC.**\n",
    "1. Before running this notebook on your local PC:<br>\n",
    "i.  You need to set up a Python environment and the relevant packages on your local PC. To do so, go through the section on \"**Run Codes Locally on Your Machine**\" in the course.<br>\n",
    "ii. You need to **download the zip file available in the last unit** of this course. The zip file contains the data files and/or python modules that might be required to run this notebook."
   ]
  },
  {
   "cell_type": "markdown",
   "id": "ab5bb584",
   "metadata": {
    "id": "9lH96uMGHbaF"
   },
   "source": [
    "## Data Structures: Lists\n",
    "\n",
    "Objects of type List are flexible and powerful data structure. In finance, you can achieve a lot using lists.\n",
    "\n",
    "For example: Storing stock price quotes and appending new data. A list is defined by its square brackets."
   ]
  },
  {
   "cell_type": "markdown",
   "id": "1e02e857",
   "metadata": {
    "id": "RltNXj-fHbaG"
   },
   "source": [
    "#### We will prepare a list of fibonnaci numbers and define our list. We will return the 0th element from the list."
   ]
  },
  {
   "cell_type": "code",
   "execution_count": 1,
   "id": "6357fbf7",
   "metadata": {
    "id": "LIoJKkfAHbaH",
    "outputId": "06afcb40-cbc8-45b2-9b80-f72d552ea609"
   },
   "outputs": [
    {
     "data": {
      "text/plain": [
       "'fibonnaci'"
      ]
     },
     "execution_count": 1,
     "metadata": {},
     "output_type": "execute_result"
    }
   ],
   "source": [
    "# fibonnaci series = 0, 1, 1, 2, 3, 5, 8, 13, 21, 34, 55, 89, 144, 233, 377, 610, 987, .... \n",
    "\n",
    "list_l1 = ['fibonnaci',0,1,1,2,3,5,8]\n",
    "list_l1 [0]"
   ]
  },
  {
   "cell_type": "markdown",
   "id": "4efcb9cf",
   "metadata": {
    "id": "-9W13Lb6HbaH"
   },
   "source": [
    "#### Return the 7th Element"
   ]
  },
  {
   "cell_type": "code",
   "execution_count": 2,
   "id": "80c54187",
   "metadata": {
    "id": "4I9rUWjWHbaI",
    "outputId": "05d437c1-052c-4600-f011-3682b6d6461c"
   },
   "outputs": [
    {
     "data": {
      "text/plain": [
       "8"
      ]
     },
     "execution_count": 2,
     "metadata": {},
     "output_type": "execute_result"
    }
   ],
   "source": [
    "list_l1 [7]"
   ]
  },
  {
   "cell_type": "markdown",
   "id": "aa37bead",
   "metadata": {
    "id": "fIwzGzHZHbaJ"
   },
   "source": [
    "#### Return the Type of Data Structure"
   ]
  },
  {
   "cell_type": "code",
   "execution_count": 3,
   "id": "27321caf",
   "metadata": {
    "id": "W6dA9sTpHbaK",
    "outputId": "2a6e0efc-abc7-4d7f-d59f-e909cc8b5dc3"
   },
   "outputs": [
    {
     "data": {
      "text/plain": [
       "list"
      ]
     },
     "execution_count": 3,
     "metadata": {},
     "output_type": "execute_result"
    }
   ],
   "source": [
    "type (list_l1) #type of variable"
   ]
  },
  {
   "cell_type": "markdown",
   "id": "e35d07c6",
   "metadata": {
    "id": "lL2laT0EHbaK"
   },
   "source": [
    "#### Append the Values [13,21] as one Element in the List"
   ]
  },
  {
   "cell_type": "code",
   "execution_count": 4,
   "id": "540c9030",
   "metadata": {
    "id": "yPNS9tcNHbaK",
    "outputId": "2b425c8c-8cb1-4a80-ae69-629d2068a6b5"
   },
   "outputs": [
    {
     "name": "stdout",
     "output_type": "stream",
     "text": [
      "['fibonnaci', 0, 1, 1, 2, 3, 5, 8, [13, 21]]\n"
     ]
    }
   ],
   "source": [
    "list_l1.append([13,21])\n",
    "print (list_l1)\n"
   ]
  },
  {
   "cell_type": "markdown",
   "id": "d69d8143",
   "metadata": {
    "id": "oGT5PDfZHbaL"
   },
   "source": [
    "#### Extend the List with Numbers 89 and 144"
   ]
  },
  {
   "cell_type": "code",
   "execution_count": 5,
   "id": "ee9c496a",
   "metadata": {
    "id": "nxMNxd2QHbaL",
    "outputId": "431fe760-b29c-4d51-b692-8bd467a4bac2"
   },
   "outputs": [
    {
     "data": {
      "text/plain": [
       "['fibonnaci', 0, 1, 1, 2, 3, 5, 8, [13, 21], 89, 144]"
      ]
     },
     "execution_count": 5,
     "metadata": {},
     "output_type": "execute_result"
    }
   ],
   "source": [
    "list_l1.extend([89,144])\n",
    "list_l1"
   ]
  },
  {
   "cell_type": "markdown",
   "id": "9eb42c56",
   "metadata": {
    "id": "5eydsyfVHbaL"
   },
   "source": [
    "#### Insert any Element in the List"
   ]
  },
  {
   "cell_type": "code",
   "execution_count": 6,
   "id": "1466f25b",
   "metadata": {
    "id": "N57t-OBkHbaM",
    "outputId": "3572e32f-e777-451b-e834-62e93119575b"
   },
   "outputs": [
    {
     "data": {
      "text/plain": [
       "['fibonnaci', 'bogey', 0, 1, 1, 2, 3, 5, 8, [13, 21], 89, 144]"
      ]
     },
     "execution_count": 6,
     "metadata": {},
     "output_type": "execute_result"
    }
   ],
   "source": [
    "list_l1.insert(1,'bogey')\n",
    "list_l1"
   ]
  },
  {
   "cell_type": "markdown",
   "id": "cf06c08d",
   "metadata": {
    "id": "1f6EWVo3HbaM"
   },
   "source": [
    "#### Insert Elements in the List to Correct the fibonnaci Series"
   ]
  },
  {
   "cell_type": "code",
   "execution_count": 7,
   "id": "3c3998a7",
   "metadata": {
    "id": "L7fgNnGNHbaM",
    "outputId": "a46565f7-d2e2-4172-d6bf-74d6ed5443b8"
   },
   "outputs": [
    {
     "data": {
      "text/plain": [
       "['fibonnaci', 'bogey', 0, 1, 1, 2, 3, 5, 8, [13, 21], 34, 55, 89, 144]"
      ]
     },
     "execution_count": 7,
     "metadata": {},
     "output_type": "execute_result"
    }
   ],
   "source": [
    "list_l1.insert(10,34)\n",
    "list_l1.insert(11,55)\n",
    "list_l1"
   ]
  },
  {
   "cell_type": "markdown",
   "id": "164a8e82",
   "metadata": {
    "id": "WYJE083tHbaM"
   },
   "source": [
    "#### Pop the bogey Element from the List"
   ]
  },
  {
   "cell_type": "code",
   "execution_count": 19,
   "id": "7d2a2c4e",
   "metadata": {
    "id": "zncYXkhOHbaN",
    "outputId": "69c9c174-6ac9-403c-db37-cc1c7ea6f662"
   },
   "outputs": [
    {
     "data": {
      "text/plain": [
       "(['fibonnaci', 144], 89)"
      ]
     },
     "execution_count": 19,
     "metadata": {},
     "output_type": "execute_result"
    }
   ],
   "source": [
    "p = list_l1.pop(1)\n",
    "\n",
    "list_l1,p"
   ]
  },
  {
   "cell_type": "markdown",
   "id": "823247dd",
   "metadata": {
    "id": "OJNQvzzmHbaN"
   },
   "source": [
    "#### Remove any Element from the List"
   ]
  },
  {
   "cell_type": "code",
   "execution_count": 20,
   "id": "2aa48441",
   "metadata": {
    "id": "cZzn3dxNHbaN",
    "outputId": "ac22cb1f-e43f-4371-ccbf-31943a972200"
   },
   "outputs": [
    {
     "data": {
      "text/plain": [
       "[144]"
      ]
     },
     "execution_count": 20,
     "metadata": {},
     "output_type": "execute_result"
    }
   ],
   "source": [
    "list_l1.remove('fibonnaci')\n",
    "list_l1"
   ]
  },
  {
   "cell_type": "markdown",
   "id": "eedd1737",
   "metadata": {
    "id": "fMnwvNczHbaN"
   },
   "source": [
    "#### Reverse the Order of the List"
   ]
  },
  {
   "cell_type": "code",
   "execution_count": 21,
   "id": "bd79f6c8",
   "metadata": {
    "id": "K-0STXoMHbaO",
    "outputId": "e9a594da-862b-4a24-d22c-14d8dd089a4d"
   },
   "outputs": [
    {
     "data": {
      "text/plain": [
       "[144]"
      ]
     },
     "execution_count": 21,
     "metadata": {},
     "output_type": "execute_result"
    }
   ],
   "source": [
    "list_l1.reverse()\n",
    "list_l1"
   ]
  },
  {
   "cell_type": "markdown",
   "id": "11d2ce84",
   "metadata": {
    "id": "sJ-3_dMtHbaO"
   },
   "source": [
    "#### Return Particular Elements from the List"
   ]
  },
  {
   "cell_type": "code",
   "execution_count": null,
   "id": "b451bbc0",
   "metadata": {
    "id": "dV7X6HTmHbaO",
    "outputId": "e01c9a30-d8f1-4a79-9257-e39989660528"
   },
   "outputs": [
    {
     "data": {
      "text/plain": [
       "[2, 1, 1, 0]"
      ]
     },
     "execution_count": 11,
     "metadata": {
      "tags": []
     },
     "output_type": "execute_result"
    }
   ],
   "source": [
    "list_l1[8:12]"
   ]
  },
  {
   "cell_type": "markdown",
   "id": "853bf75c",
   "metadata": {
    "id": "vnOZzxYxHbaO"
   },
   "source": [
    "#### Define a New List and Sort the List"
   ]
  },
  {
   "cell_type": "code",
   "execution_count": null,
   "id": "8c916742",
   "metadata": {
    "id": "rmpaYvzyHbaP",
    "outputId": "9ed048f3-8bdf-4c8b-8d6f-a3be521e148d"
   },
   "outputs": [
    {
     "data": {
      "text/plain": [
       "[23, 45, 65, 75, 96]"
      ]
     },
     "execution_count": 12,
     "metadata": {
      "tags": []
     },
     "output_type": "execute_result"
    }
   ],
   "source": [
    "list_l2 = [23,65,96,45,75]\n",
    "list_l2.sort()\n",
    "list_l2"
   ]
  },
  {
   "cell_type": "markdown",
   "id": "20f45290",
   "metadata": {
    "id": "SnhIXDHqHbaP"
   },
   "source": [
    "In the next IPython notebook, you will learn about <b> dictionaries</b>. <b><b>"
   ]
  }
 ],
 "metadata": {
  "anaconda-cloud": {},
  "colab": {
   "collapsed_sections": [],
   "name": "Lists.ipynb",
   "provenance": []
  },
  "kernelspec": {
   "display_name": "Python 3.10.4 64-bit",
   "language": "python",
   "name": "python3"
  },
  "language_info": {
   "codemirror_mode": {
    "name": "ipython",
    "version": 3
   },
   "file_extension": ".py",
   "mimetype": "text/x-python",
   "name": "python",
   "nbconvert_exporter": "python",
   "pygments_lexer": "ipython3",
   "version": "3.10.4"
  },
  "vscode": {
   "interpreter": {
    "hash": "5159781d4911915b18c0fbe8a046748af728f2e0f1da92475ba775542874e153"
   }
  }
 },
 "nbformat": 4,
 "nbformat_minor": 5
}
