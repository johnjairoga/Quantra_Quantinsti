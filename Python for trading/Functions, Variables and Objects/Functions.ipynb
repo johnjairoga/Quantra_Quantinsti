{
 "cells": [
  {
   "cell_type": "markdown",
   "metadata": {},
   "source": [
    "# Notebook Instructions\n",
    "\n",
    "1. All the <u>code and data files</u> used in this course are available in the downloadable unit of the <u>last section of this course</u>.\n",
    "2. You can run the notebook document sequentially (one cell at a time) by pressing **shift + enter**. \n",
    "3. While a cell is running, a [*] is shown on the left. After the cell is run, the output will appear on the next line.\n",
    "\n",
    "This course is based on specific versions of python packages. You can find the details of the packages in <a href='https://quantra.quantinsti.com/quantra-notebook' target=\"_blank\" >this manual</a>."
   ]
  },
  {
   "cell_type": "markdown",
   "metadata": {},
   "source": [
    "## Defining a function\n",
    "The following function <b>ex_loop()</b> prints the elements in a list by iterating through it using <b>for</b> loop."
   ]
  },
  {
   "cell_type": "code",
   "execution_count": 1,
   "metadata": {},
   "outputs": [
    {
     "name": "stdout",
     "output_type": "stream",
     "text": [
      "1\n",
      "Gold\n",
      "Silver\n"
     ]
    }
   ],
   "source": [
    "def ex_loop():\n",
    "    # The loop starts with an indentation\n",
    "    for i in [1, 'Gold', 'Silver']:\n",
    "        # The statement in the loop starts with an indentation\n",
    "        print (i)\n",
    "\n",
    "# Calling the function\n",
    "ex_loop()"
   ]
  },
  {
   "cell_type": "markdown",
   "metadata": {},
   "source": [
    "### Calculating the bid-ask spread\n",
    "The following function <b>calc_spread()</b> calculates the bid-ask spread by taking the bid and the ask prices as inputs."
   ]
  },
  {
   "cell_type": "code",
   "execution_count": 2,
   "metadata": {},
   "outputs": [],
   "source": [
    "def calc_spread(bid, ask): # Function takes bid and ask prices as input arguments\n",
    "    spd = ask - bid\n",
    "    return spd             # Funtion returns the variable spd, which stores the bid ask spread"
   ]
  },
  {
   "cell_type": "markdown",
   "metadata": {},
   "source": [
    "### Calculating the mid price\n",
    "The following function calculates the mid-price, which is the average of the bid and the ask prices."
   ]
  },
  {
   "cell_type": "code",
   "execution_count": 3,
   "metadata": {},
   "outputs": [],
   "source": [
    "def calc_midPrice(bid, ask):\n",
    "    mid_price = (bid + ask)/2\n",
    "    return mid_price"
   ]
  },
  {
   "cell_type": "markdown",
   "metadata": {},
   "source": [
    "### Printing the bid-ask spread and mid price\n",
    "We will now define a function which prints the bid-ask spread and the mid-price by taking bid and ask prices as input arguments."
   ]
  },
  {
   "cell_type": "code",
   "execution_count": 4,
   "metadata": {},
   "outputs": [],
   "source": [
    "def print_all(bid, ask):\n",
    "    s = calc_spread(bid, ask)\n",
    "    p = calc_midPrice(bid, ask)\n",
    "    for i in [s,p]:\n",
    "        print (i)"
   ]
  },
  {
   "cell_type": "markdown",
   "metadata": {},
   "source": [
    "Now that we have defined all the functions, we will call the print_all() function by passing the bid and ask prices as the arguments. The print_all() function would then call the other two functions in order to calculate the bid-ask spread and the mid-price."
   ]
  },
  {
   "cell_type": "code",
   "execution_count": 5,
   "metadata": {},
   "outputs": [
    {
     "name": "stdout",
     "output_type": "stream",
     "text": [
      "5.11999999999999\n",
      "112.68\n"
     ]
    }
   ],
   "source": [
    "print_all(110.12, 115.24)"
   ]
  },
  {
   "cell_type": "markdown",
   "metadata": {},
   "source": [
    "### Computing transaction charges and PnL\n",
    "\n",
    "Creating a program using different functions to compute the PnL of trade after considering the transaction charges and taxes, by providing the buying and selling prices of a trade.\n",
    "\n",
    "Assumptions:\n",
    "- Transaction charges to be 2% of the buying price\n",
    "- 15% of taxes on profits"
   ]
  },
  {
   "cell_type": "markdown",
   "metadata": {
    "collapsed": true
   },
   "source": [
    "#### Computing PnL before transaction charges and taxes"
   ]
  },
  {
   "cell_type": "code",
   "execution_count": 6,
   "metadata": {},
   "outputs": [],
   "source": [
    "def absoulte_PNL(buy_price, sell_price):\n",
    "    PNL = sell_price - buy_price\n",
    "    return PNL"
   ]
  },
  {
   "cell_type": "markdown",
   "metadata": {},
   "source": [
    "#### Computing transaction charges"
   ]
  },
  {
   "cell_type": "code",
   "execution_count": 7,
   "metadata": {},
   "outputs": [],
   "source": [
    "def transaction_charges(buy_price):\n",
    "    trans_charges = buy_price*0.02\n",
    "    return trans_charges"
   ]
  },
  {
   "cell_type": "markdown",
   "metadata": {},
   "source": [
    "#### Computing taxes"
   ]
  },
  {
   "cell_type": "code",
   "execution_count": 8,
   "metadata": {},
   "outputs": [],
   "source": [
    "def taxes(buy_price, sell_price):\n",
    "    profit = sell_price - buy_price\n",
    "    if profit>0:\n",
    "        tax = 0.15*profit\n",
    "    else:\n",
    "        tax = 0\n",
    "    return tax"
   ]
  },
  {
   "cell_type": "markdown",
   "metadata": {
    "collapsed": true
   },
   "source": [
    "#### Printing the PNL after transaction charges and taxes"
   ]
  },
  {
   "cell_type": "code",
   "execution_count": 9,
   "metadata": {},
   "outputs": [
    {
     "name": "stdout",
     "output_type": "stream",
     "text": [
      "40.5\n"
     ]
    }
   ],
   "source": [
    "buy_price = 100\n",
    "sell_price = 150\n",
    "PNL = absoulte_PNL(buy_price, sell_price) - transaction_charges(buy_price) - taxes(buy_price, sell_price)\n",
    "print (PNL)"
   ]
  },
  {
   "cell_type": "markdown",
   "metadata": {},
   "source": [
    "You may try tweaking these functions and see how it changes the outputs.\n",
    "\n",
    "In the next unit, you will be coding a simple function for printing numbers.<br><br>"
   ]
  }
 ],
 "metadata": {
  "anaconda-cloud": {},
  "kernelspec": {
   "display_name": "Python 3",
   "language": "python",
   "name": "python3"
  },
  "language_info": {
   "codemirror_mode": {
    "name": "ipython",
    "version": 3
   },
   "file_extension": ".py",
   "mimetype": "text/x-python",
   "name": "python",
   "nbconvert_exporter": "python",
   "pygments_lexer": "ipython3",
   "version": "3.7.4"
  }
 },
 "nbformat": 4,
 "nbformat_minor": 2
}
